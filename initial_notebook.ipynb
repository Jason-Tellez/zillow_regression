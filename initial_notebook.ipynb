{
 "cells": [
  {
   "cell_type": "code",
   "execution_count": 1,
   "id": "11ad4621",
   "metadata": {},
   "outputs": [],
   "source": [
    "import os\n",
    "from env import host, user, password\n",
    "\n",
    "import numpy as np\n",
    "import pandas as pd\n",
    "from scipy import stats\n",
    "from sklearn.model_selection import train_test_split\n",
    "\n",
    "import sklearn.preprocessing\n",
    "from sklearn.linear_model import LinearRegression, LassoLars, TweedieRegressor\n",
    "from sklearn.preprocessing import PolynomialFeatures\n",
    "from sklearn.metrics import mean_squared_error, r2_score\n",
    "from sklearn.feature_selection import SelectKBest, f_regression, RFE\n",
    "\n",
    "import matplotlib.pyplot as plt\n",
    "import seaborn as sns\n",
    "\n",
    "import warnings\n",
    "warnings.filterwarnings(\"ignore\")"
   ]
  },
  {
   "cell_type": "markdown",
   "id": "f5c6390d",
   "metadata": {},
   "source": [
    "key|old_key|description\n",
    "aircon|airconditioningtypeid|Type of cooling system present in the home (if any)architectural_style\n",
    "architecturalstyletypeid|architecturalstyletypeid|Architectural style of the home (i.e. ranch, colonial, split-level, etc…)\n",
    "area_base|finishedsquarefeet6|Base unfinished and finished area\n",
    "area_firstfloor_finished|finishedfloor1squarefeet|Size of the finished living area on the first (entry) floor of the home\n",
    "area_garage|garagetotalsqft|Total number of square feet of all garages on lot including an attached garage\n",
    "area_live_finished|finishedsquarefeet12|Finished living area\n",
    "area_liveperi_finished|finishedsquarefeet13|Perimeter living area\n",
    "area_lot|lotsizesquarefeet|Area of the lot in square feet\n",
    "area_patio|yardbuildingsqft17|Patio in yard\n",
    "area_pool|poolsizesum|Total square footage of all pools on property\n",
    "area_shed|yardbuildingsqft26|Storage shed/building in yard\n",
    "area_total_calc|calculatedfinishedsquarefeet|Calculated total finished living area of the home\n",
    "area_total_finished|finishedsquarefeet15|Total area\n",
    "area_unknown|finishedsquarefeet50|Size of the finished living area on the first (entry) floor of the home\n",
    "basementsqft|basementsqft|Finished living area below or partially below ground level\n",
    "build_year|yearbuilt|The Year the principal residence was built\n",
    "deck|decktypeid|Type of deck (if any) present on parcelfinishedfloor1squarefeet\n",
    "flag_fireplace|fireplaceflag|Is a fireplace present in this home\n",
    "flag_tub|hashottuborspa|Does the home have a hot tub or spa\n",
    "framing|buildingclasstypeid|The building framing type (steel frame, wood frame, concrete/brick)\n",
    "heating|heatingorsystemtypeid|Type of home heating system\n",
    "id_fips|fips|Federal Information Processing Standard code - see https://en.wikipedia.org/wiki/FIPS_county_code for more details\n",
    "id_parcel|parcelid|Unique identifier for parcels (lots)\n",
    "id_zoning_raw|rawcensustractandblock|Census tract and block ID combined - also contains blockgroup assignment by extension\n",
    "id_zoning|censustractandblock|Census tract and block ID combined - also contains blockgroup assignment by extension\n",
    "latitude|latitude|Latitude of the middle of the parcel multiplied by 10e6\n",
    "longitude|longitude|Longitude of the middle of the parcel multiplied by 10e6\n",
    "material|typeconstructiontypeid|What type of construction material was used to construct the home\n",
    "num_75_bath|threequarterbathnbr|Number of 3/4 bathrooms in house (shower + sink + toilet)\n",
    "num_bathroom_calc|calculatedbathnbr|Number of bathrooms in home including fractional bathroom\n",
    "num_bathroom|bathroomcnt|Number of bathrooms in home including fractional bathrooms\n",
    "num_bath|fullbathcnt|Number of full bathrooms (sink, shower + bathtub, and toilet) present in home\n",
    "num_bedroom|bedroomcnt|Number of bedrooms in home\n",
    "num_fireplace|fireplacecnt|Number of fireplaces in a home (if any)\n",
    "num_garage|garagecarcnt|Total number of garages on the lot including an attached garage\n",
    "num_pool|poolcnt|Number of pools on the lot (if any)\n",
    "num_room|roomcnt|Total number of rooms in the principal residence\n",
    "num_story|numberofstories|Number of stories or levels the home has\n",
    "num_unit|unitcnt|Number of units the structure is built into (i.e. 2 = duplex, 3 = triplex, etc...)\n",
    "pooltypeid10|pooltypeid10|Spa or Hot Tub\n",
    "pooltypeid2|pooltypeid2|Pool with Spa/Hot Tub\n",
    "pooltypeid7|pooltypeid7|Pool without hot tub\n",
    "quality|buildingqualitytypeid|Overall assessment of condition of the building from best (lowest) to worst (highest)\n",
    "region_city|regionidcity|City in which the property is located (if any)\n",
    "region_county|regionidcounty|County in which the property is located\n",
    "region_neighbor|regionidneighborhood|Neighborhood in which the property is located\n",
    "region_zip|regionidzip|Zip code in which the property is located\n",
    "story|storytypeid|Type of floors in a multi-story house (i.e. basement and main level, split-level, attic, etc.). See tab for details.\n",
    "tax_building|structuretaxvaluedollarcnt|The assessed value of the built structure on the parcel\n",
    "tax_delinquency_year|taxdelinquencyyear|Year for which the unpaid propert taxes were due\n",
    "tax_delinquency|taxdelinquencyflag|Property taxes for this parcel are past due as of 2015\n",
    "tax_land|landtaxvaluedollarcnt|The assessed value of the land area of the parcel\n",
    "tax_property|taxamount|The total property tax assessed for that assessment year\n",
    "tax_total|taxvaluedollarcnt|The total tax assessed value of the parcel\n",
    "tax_year|assessmentyear|The year of the property tax assessmentbasementsqft\n",
    "zoning_landuse_county|propertycountylandusecode|County land use code i.e. it's zoning at the county level\n",
    "zoning_landuse|propertylandusetypeid|Type of land use the property is zoned for\n",
    "zoning_property|propertyzoningdesc|Description of the allowed land uses (zoning) for that property"
   ]
  },
  {
   "cell_type": "markdown",
   "id": "f3335fe1",
   "metadata": {},
   "source": [
    "# Acquire/Prepare"
   ]
  },
  {
   "cell_type": "code",
   "execution_count": 2,
   "id": "3817a8a0",
   "metadata": {},
   "outputs": [],
   "source": [
    "import os\n",
    "from env import host, user, password\n",
    "import numpy as np\n",
    "import pandas as pd\n",
    "\n",
    "\n",
    "################### Connects to Sequel Ace using credentials ###################\n",
    "\n",
    "def get_connection(db, user=user, host=host, password=password):\n",
    "    '''\n",
    "    This function uses my info from my env file to\n",
    "    create a connection url to access the Codeup db.\n",
    "    It takes in a string name of a database as an argument.\n",
    "    '''\n",
    "    return f'mysql+pymysql://{user}:{password}@{host}/{db}'\n",
    "\n",
    "\n",
    "################### Create new dataframe from SQL db ###################\n",
    "    \n",
    "def new_zillow_data():\n",
    "    '''\n",
    "    This function reads the zillow data from the Codeup db into a df,\n",
    "    writes it to a csv file, and returns the df.\n",
    "    '''\n",
    "\n",
    "    # Create SQL query.\n",
    "    sql_query = \"\"\"\n",
    "           SELECT *\n",
    "           FROM properties_2017\n",
    "           JOIN predictions_2017\n",
    "           USING (parcelid)\n",
    "           LEFT JOIN propertylandusetype\n",
    "           USING (propertylandusetypeid)\n",
    "           WHERE (transactiondate <= '2017-08-31' AND transactiondate >= '2017-05-01')\n",
    "               AND propertylandusetypeid IN ('261', '262', '263', '264', '265', '266', '268', '271', '273', '274', '275', '276');  \n",
    "            \"\"\"\n",
    "    # Read in DataFrame from Codeup's SQL db.\n",
    "    df = pd.read_sql(sql_query, get_connection('zillow'))\n",
    "    \n",
    "    return df\n",
    "\n",
    "\n",
    "################### Acquire existing csv file ###################\n",
    "\n",
    "def get_zillow_data():\n",
    "    '''\n",
    "    This function reads in zillow data from Codeup database, writes data to\n",
    "    a csv file if a local file does not exist, and returns a df.\n",
    "    '''\n",
    "    if os.path.isfile('zillow.csv'):\n",
    "        \n",
    "        # If csv file exists, read in data from csv file.\n",
    "        df = pd.read_csv('zillow.csv', index_col=0)\n",
    "        \n",
    "    else:\n",
    "        \n",
    "        # Read fresh data from db into a DataFrame.\n",
    "        df = new_zillow_data()\n",
    "        \n",
    "        # Write DataFrame to a csv file.\n",
    "        df.to_csv('zillow.csv')\n",
    "        \n",
    "    return df\n",
    "df = get_zillow_data()"
   ]
  },
  {
   "cell_type": "code",
   "execution_count": 3,
   "id": "ebb81a3e",
   "metadata": {},
   "outputs": [
    {
     "data": {
      "text/html": [
       "<div>\n",
       "<style scoped>\n",
       "    .dataframe tbody tr th:only-of-type {\n",
       "        vertical-align: middle;\n",
       "    }\n",
       "\n",
       "    .dataframe tbody tr th {\n",
       "        vertical-align: top;\n",
       "    }\n",
       "\n",
       "    .dataframe thead th {\n",
       "        text-align: right;\n",
       "    }\n",
       "</style>\n",
       "<table border=\"1\" class=\"dataframe\">\n",
       "  <thead>\n",
       "    <tr style=\"text-align: right;\">\n",
       "      <th></th>\n",
       "      <th>propertylandusetypeid</th>\n",
       "      <th>parcelid</th>\n",
       "      <th>id</th>\n",
       "      <th>airconditioningtypeid</th>\n",
       "      <th>architecturalstyletypeid</th>\n",
       "      <th>basementsqft</th>\n",
       "      <th>bathroomcnt</th>\n",
       "      <th>bedroomcnt</th>\n",
       "      <th>buildingclasstypeid</th>\n",
       "      <th>buildingqualitytypeid</th>\n",
       "      <th>...</th>\n",
       "      <th>assessmentyear</th>\n",
       "      <th>landtaxvaluedollarcnt</th>\n",
       "      <th>taxamount</th>\n",
       "      <th>taxdelinquencyflag</th>\n",
       "      <th>taxdelinquencyyear</th>\n",
       "      <th>censustractandblock</th>\n",
       "      <th>id.1</th>\n",
       "      <th>logerror</th>\n",
       "      <th>transactiondate</th>\n",
       "      <th>propertylandusedesc</th>\n",
       "    </tr>\n",
       "  </thead>\n",
       "  <tbody>\n",
       "    <tr>\n",
       "      <th>0</th>\n",
       "      <td>266.0</td>\n",
       "      <td>14634203</td>\n",
       "      <td>2026522</td>\n",
       "      <td>1.0</td>\n",
       "      <td>NaN</td>\n",
       "      <td>NaN</td>\n",
       "      <td>2.0</td>\n",
       "      <td>3.0</td>\n",
       "      <td>NaN</td>\n",
       "      <td>NaN</td>\n",
       "      <td>...</td>\n",
       "      <td>2016.0</td>\n",
       "      <td>213516.0</td>\n",
       "      <td>3490.16</td>\n",
       "      <td>NaN</td>\n",
       "      <td>NaN</td>\n",
       "      <td>6.059001e+13</td>\n",
       "      <td>625</td>\n",
       "      <td>-0.061973</td>\n",
       "      <td>2017-08-04</td>\n",
       "      <td>Condominium</td>\n",
       "    </tr>\n",
       "    <tr>\n",
       "      <th>1</th>\n",
       "      <td>261.0</td>\n",
       "      <td>11721753</td>\n",
       "      <td>616260</td>\n",
       "      <td>NaN</td>\n",
       "      <td>NaN</td>\n",
       "      <td>NaN</td>\n",
       "      <td>2.0</td>\n",
       "      <td>3.0</td>\n",
       "      <td>NaN</td>\n",
       "      <td>6.0</td>\n",
       "      <td>...</td>\n",
       "      <td>2016.0</td>\n",
       "      <td>163175.0</td>\n",
       "      <td>2627.48</td>\n",
       "      <td>NaN</td>\n",
       "      <td>NaN</td>\n",
       "      <td>6.037220e+13</td>\n",
       "      <td>1018</td>\n",
       "      <td>0.017785</td>\n",
       "      <td>2017-07-21</td>\n",
       "      <td>Single Family Residential</td>\n",
       "    </tr>\n",
       "    <tr>\n",
       "      <th>2</th>\n",
       "      <td>261.0</td>\n",
       "      <td>11289917</td>\n",
       "      <td>2061546</td>\n",
       "      <td>1.0</td>\n",
       "      <td>NaN</td>\n",
       "      <td>NaN</td>\n",
       "      <td>2.0</td>\n",
       "      <td>3.0</td>\n",
       "      <td>NaN</td>\n",
       "      <td>6.0</td>\n",
       "      <td>...</td>\n",
       "      <td>2016.0</td>\n",
       "      <td>27214.0</td>\n",
       "      <td>2319.90</td>\n",
       "      <td>Y</td>\n",
       "      <td>15.0</td>\n",
       "      <td>6.037901e+13</td>\n",
       "      <td>1248</td>\n",
       "      <td>-0.362001</td>\n",
       "      <td>2017-06-23</td>\n",
       "      <td>Single Family Residential</td>\n",
       "    </tr>\n",
       "    <tr>\n",
       "      <th>3</th>\n",
       "      <td>266.0</td>\n",
       "      <td>11637029</td>\n",
       "      <td>2554497</td>\n",
       "      <td>1.0</td>\n",
       "      <td>NaN</td>\n",
       "      <td>NaN</td>\n",
       "      <td>2.0</td>\n",
       "      <td>3.0</td>\n",
       "      <td>NaN</td>\n",
       "      <td>9.0</td>\n",
       "      <td>...</td>\n",
       "      <td>2016.0</td>\n",
       "      <td>554156.0</td>\n",
       "      <td>9407.01</td>\n",
       "      <td>Y</td>\n",
       "      <td>13.0</td>\n",
       "      <td>6.037701e+13</td>\n",
       "      <td>1734</td>\n",
       "      <td>-0.093399</td>\n",
       "      <td>2017-07-28</td>\n",
       "      <td>Condominium</td>\n",
       "    </tr>\n",
       "    <tr>\n",
       "      <th>4</th>\n",
       "      <td>261.0</td>\n",
       "      <td>11705026</td>\n",
       "      <td>1834372</td>\n",
       "      <td>NaN</td>\n",
       "      <td>NaN</td>\n",
       "      <td>NaN</td>\n",
       "      <td>1.0</td>\n",
       "      <td>2.0</td>\n",
       "      <td>NaN</td>\n",
       "      <td>6.0</td>\n",
       "      <td>...</td>\n",
       "      <td>2016.0</td>\n",
       "      <td>23624.0</td>\n",
       "      <td>543.69</td>\n",
       "      <td>NaN</td>\n",
       "      <td>NaN</td>\n",
       "      <td>6.037232e+13</td>\n",
       "      <td>1772</td>\n",
       "      <td>-0.146056</td>\n",
       "      <td>2017-06-30</td>\n",
       "      <td>Single Family Residential</td>\n",
       "    </tr>\n",
       "  </tbody>\n",
       "</table>\n",
       "<p>5 rows × 63 columns</p>\n",
       "</div>"
      ],
      "text/plain": [
       "   propertylandusetypeid  parcelid       id  airconditioningtypeid  \\\n",
       "0                  266.0  14634203  2026522                    1.0   \n",
       "1                  261.0  11721753   616260                    NaN   \n",
       "2                  261.0  11289917  2061546                    1.0   \n",
       "3                  266.0  11637029  2554497                    1.0   \n",
       "4                  261.0  11705026  1834372                    NaN   \n",
       "\n",
       "   architecturalstyletypeid  basementsqft  bathroomcnt  bedroomcnt  \\\n",
       "0                       NaN           NaN          2.0         3.0   \n",
       "1                       NaN           NaN          2.0         3.0   \n",
       "2                       NaN           NaN          2.0         3.0   \n",
       "3                       NaN           NaN          2.0         3.0   \n",
       "4                       NaN           NaN          1.0         2.0   \n",
       "\n",
       "   buildingclasstypeid  buildingqualitytypeid  ...  assessmentyear  \\\n",
       "0                  NaN                    NaN  ...          2016.0   \n",
       "1                  NaN                    6.0  ...          2016.0   \n",
       "2                  NaN                    6.0  ...          2016.0   \n",
       "3                  NaN                    9.0  ...          2016.0   \n",
       "4                  NaN                    6.0  ...          2016.0   \n",
       "\n",
       "   landtaxvaluedollarcnt  taxamount  taxdelinquencyflag  taxdelinquencyyear  \\\n",
       "0               213516.0    3490.16                 NaN                 NaN   \n",
       "1               163175.0    2627.48                 NaN                 NaN   \n",
       "2                27214.0    2319.90                   Y                15.0   \n",
       "3               554156.0    9407.01                   Y                13.0   \n",
       "4                23624.0     543.69                 NaN                 NaN   \n",
       "\n",
       "   censustractandblock  id.1  logerror  transactiondate  \\\n",
       "0         6.059001e+13   625 -0.061973       2017-08-04   \n",
       "1         6.037220e+13  1018  0.017785       2017-07-21   \n",
       "2         6.037901e+13  1248 -0.362001       2017-06-23   \n",
       "3         6.037701e+13  1734 -0.093399       2017-07-28   \n",
       "4         6.037232e+13  1772 -0.146056       2017-06-30   \n",
       "\n",
       "         propertylandusedesc  \n",
       "0                Condominium  \n",
       "1  Single Family Residential  \n",
       "2  Single Family Residential  \n",
       "3                Condominium  \n",
       "4  Single Family Residential  \n",
       "\n",
       "[5 rows x 63 columns]"
      ]
     },
     "execution_count": 3,
     "metadata": {},
     "output_type": "execute_result"
    }
   ],
   "source": [
    "df.head()"
   ]
  },
  {
   "cell_type": "code",
   "execution_count": 4,
   "id": "f31afb0f",
   "metadata": {},
   "outputs": [
    {
     "data": {
      "text/plain": [
       "(38598, 63)"
      ]
     },
     "execution_count": 4,
     "metadata": {},
     "output_type": "execute_result"
    }
   ],
   "source": [
    "df.shape"
   ]
  },
  {
   "cell_type": "code",
   "execution_count": 5,
   "id": "82b7b508",
   "metadata": {
    "scrolled": true
   },
   "outputs": [
    {
     "name": "stdout",
     "output_type": "stream",
     "text": [
      "<class 'pandas.core.frame.DataFrame'>\n",
      "Int64Index: 38598 entries, 0 to 38597\n",
      "Data columns (total 63 columns):\n",
      " #   Column                        Non-Null Count  Dtype  \n",
      "---  ------                        --------------  -----  \n",
      " 0   propertylandusetypeid         38598 non-null  float64\n",
      " 1   parcelid                      38598 non-null  int64  \n",
      " 2   id                            38598 non-null  int64  \n",
      " 3   airconditioningtypeid         12222 non-null  float64\n",
      " 4   architecturalstyletypeid      101 non-null    float64\n",
      " 5   basementsqft                  27 non-null     float64\n",
      " 6   bathroomcnt                   38598 non-null  float64\n",
      " 7   bedroomcnt                    38598 non-null  float64\n",
      " 8   buildingclasstypeid           0 non-null      float64\n",
      " 9   buildingqualitytypeid         23698 non-null  float64\n",
      " 10  calculatedbathnbr             38455 non-null  float64\n",
      " 11  decktypeid                    333 non-null    float64\n",
      " 12  finishedfloor1squarefeet      3339 non-null   float64\n",
      " 13  calculatedfinishedsquarefeet  38500 non-null  float64\n",
      " 14  finishedsquarefeet12          38386 non-null  float64\n",
      " 15  finishedsquarefeet13          31 non-null     float64\n",
      " 16  finishedsquarefeet15          4 non-null      float64\n",
      " 17  finishedsquarefeet50          3339 non-null   float64\n",
      " 18  finishedsquarefeet6           79 non-null     float64\n",
      " 19  fips                          38598 non-null  float64\n",
      " 20  fireplacecnt                  4653 non-null   float64\n",
      " 21  fullbathcnt                   38455 non-null  float64\n",
      " 22  garagecarcnt                  13919 non-null  float64\n",
      " 23  garagetotalsqft               13919 non-null  float64\n",
      " 24  hashottuborspa                889 non-null    float64\n",
      " 25  heatingorsystemtypeid         24605 non-null  float64\n",
      " 26  latitude                      38598 non-null  float64\n",
      " 27  longitude                     38598 non-null  float64\n",
      " 28  lotsizesquarefeet             34237 non-null  float64\n",
      " 29  poolcnt                       8593 non-null   float64\n",
      " 30  poolsizesum                   496 non-null    float64\n",
      " 31  pooltypeid10                  250 non-null    float64\n",
      " 32  pooltypeid2                   639 non-null    float64\n",
      " 33  pooltypeid7                   7945 non-null   float64\n",
      " 34  propertycountylandusecode     38598 non-null  object \n",
      " 35  propertyzoningdesc            23935 non-null  object \n",
      " 36  rawcensustractandblock        38598 non-null  float64\n",
      " 37  regionidcity                  37875 non-null  float64\n",
      " 38  regionidcounty                38598 non-null  float64\n",
      " 39  regionidneighborhood          15154 non-null  float64\n",
      " 40  regionidzip                   38571 non-null  float64\n",
      " 41  roomcnt                       38598 non-null  float64\n",
      " 42  storytypeid                   27 non-null     float64\n",
      " 43  threequarterbathnbr           5584 non-null   float64\n",
      " 44  typeconstructiontypeid        111 non-null    float64\n",
      " 45  unitcnt                       23897 non-null  float64\n",
      " 46  yardbuildingsqft17            1367 non-null   float64\n",
      " 47  yardbuildingsqft26            48 non-null     float64\n",
      " 48  yearbuilt                     38477 non-null  float64\n",
      " 49  numberofstories               9514 non-null   float64\n",
      " 50  fireplaceflag                 84 non-null     float64\n",
      " 51  structuretaxvaluedollarcnt    38546 non-null  float64\n",
      " 52  taxvaluedollarcnt             38597 non-null  float64\n",
      " 53  assessmentyear                38598 non-null  float64\n",
      " 54  landtaxvaluedollarcnt         38597 non-null  float64\n",
      " 55  taxamount                     38597 non-null  float64\n",
      " 56  taxdelinquencyflag            1268 non-null   object \n",
      " 57  taxdelinquencyyear            1268 non-null   float64\n",
      " 58  censustractandblock           38457 non-null  float64\n",
      " 59  id.1                          38598 non-null  int64  \n",
      " 60  logerror                      38598 non-null  float64\n",
      " 61  transactiondate               38598 non-null  object \n",
      " 62  propertylandusedesc           38598 non-null  object \n",
      "dtypes: float64(55), int64(3), object(5)\n",
      "memory usage: 18.8+ MB\n"
     ]
    }
   ],
   "source": [
    "df.info()"
   ]
  },
  {
   "cell_type": "code",
   "execution_count": 6,
   "id": "1f9c1829",
   "metadata": {},
   "outputs": [
    {
     "data": {
      "text/plain": [
       "propertylandusetypeid           0\n",
       "parcelid                        0\n",
       "id                              0\n",
       "airconditioningtypeid       26376\n",
       "architecturalstyletypeid    38497\n",
       "                            ...  \n",
       "censustractandblock           141\n",
       "id.1                            0\n",
       "logerror                        0\n",
       "transactiondate                 0\n",
       "propertylandusedesc             0\n",
       "Length: 63, dtype: int64"
      ]
     },
     "execution_count": 6,
     "metadata": {},
     "output_type": "execute_result"
    }
   ],
   "source": [
    "df.isnull().sum()"
   ]
  },
  {
   "cell_type": "markdown",
   "id": "c32b725d",
   "metadata": {},
   "source": [
    "Many columns are missing many values. This won't do."
   ]
  },
  {
   "cell_type": "code",
   "execution_count": 7,
   "id": "334ab0c8",
   "metadata": {},
   "outputs": [
    {
     "data": {
      "text/plain": [
       "propertylandusetypeid           6\n",
       "parcelid                    38566\n",
       "id                          38566\n",
       "airconditioningtypeid           4\n",
       "architecturalstyletypeid        5\n",
       "                            ...  \n",
       "censustractandblock         24215\n",
       "id.1                        38598\n",
       "logerror                    38290\n",
       "transactiondate               123\n",
       "propertylandusedesc             6\n",
       "Length: 63, dtype: int64"
      ]
     },
     "execution_count": 7,
     "metadata": {},
     "output_type": "execute_result"
    }
   ],
   "source": [
    "df.nunique()"
   ]
  },
  {
   "cell_type": "markdown",
   "id": "476825ae",
   "metadata": {},
   "source": [
    "Some columns only have one unique value. Why?"
   ]
  },
  {
   "cell_type": "code",
   "execution_count": 8,
   "id": "e6facfcb",
   "metadata": {
    "scrolled": true
   },
   "outputs": [
    {
     "data": {
      "text/html": [
       "<div>\n",
       "<style scoped>\n",
       "    .dataframe tbody tr th:only-of-type {\n",
       "        vertical-align: middle;\n",
       "    }\n",
       "\n",
       "    .dataframe tbody tr th {\n",
       "        vertical-align: top;\n",
       "    }\n",
       "\n",
       "    .dataframe thead th {\n",
       "        text-align: right;\n",
       "    }\n",
       "</style>\n",
       "<table border=\"1\" class=\"dataframe\">\n",
       "  <thead>\n",
       "    <tr style=\"text-align: right;\">\n",
       "      <th></th>\n",
       "      <th>count</th>\n",
       "      <th>mean</th>\n",
       "      <th>std</th>\n",
       "      <th>min</th>\n",
       "      <th>25%</th>\n",
       "      <th>50%</th>\n",
       "      <th>75%</th>\n",
       "      <th>max</th>\n",
       "    </tr>\n",
       "  </thead>\n",
       "  <tbody>\n",
       "    <tr>\n",
       "      <th>propertylandusetypeid</th>\n",
       "      <td>38598.0</td>\n",
       "      <td>2.623585e+02</td>\n",
       "      <td>2.247820e+00</td>\n",
       "      <td>2.610000e+02</td>\n",
       "      <td>2.610000e+02</td>\n",
       "      <td>2.610000e+02</td>\n",
       "      <td>2.660000e+02</td>\n",
       "      <td>2.750000e+02</td>\n",
       "    </tr>\n",
       "    <tr>\n",
       "      <th>parcelid</th>\n",
       "      <td>38598.0</td>\n",
       "      <td>1.310582e+07</td>\n",
       "      <td>3.701676e+06</td>\n",
       "      <td>1.071186e+07</td>\n",
       "      <td>1.154833e+07</td>\n",
       "      <td>1.260568e+07</td>\n",
       "      <td>1.429947e+07</td>\n",
       "      <td>1.676878e+08</td>\n",
       "    </tr>\n",
       "    <tr>\n",
       "      <th>id</th>\n",
       "      <td>38598.0</td>\n",
       "      <td>1.500565e+06</td>\n",
       "      <td>8.592102e+05</td>\n",
       "      <td>3.490000e+02</td>\n",
       "      <td>7.601705e+05</td>\n",
       "      <td>1.507442e+06</td>\n",
       "      <td>2.243085e+06</td>\n",
       "      <td>2.982274e+06</td>\n",
       "    </tr>\n",
       "    <tr>\n",
       "      <th>airconditioningtypeid</th>\n",
       "      <td>12222.0</td>\n",
       "      <td>1.900344e+00</td>\n",
       "      <td>3.112865e+00</td>\n",
       "      <td>1.000000e+00</td>\n",
       "      <td>1.000000e+00</td>\n",
       "      <td>1.000000e+00</td>\n",
       "      <td>1.000000e+00</td>\n",
       "      <td>1.300000e+01</td>\n",
       "    </tr>\n",
       "    <tr>\n",
       "      <th>architecturalstyletypeid</th>\n",
       "      <td>101.0</td>\n",
       "      <td>7.564356e+00</td>\n",
       "      <td>3.232386e+00</td>\n",
       "      <td>2.000000e+00</td>\n",
       "      <td>7.000000e+00</td>\n",
       "      <td>7.000000e+00</td>\n",
       "      <td>7.000000e+00</td>\n",
       "      <td>2.100000e+01</td>\n",
       "    </tr>\n",
       "    <tr>\n",
       "      <th>basementsqft</th>\n",
       "      <td>27.0</td>\n",
       "      <td>6.397037e+02</td>\n",
       "      <td>4.459779e+02</td>\n",
       "      <td>1.000000e+02</td>\n",
       "      <td>3.490000e+02</td>\n",
       "      <td>6.040000e+02</td>\n",
       "      <td>7.430000e+02</td>\n",
       "      <td>1.969000e+03</td>\n",
       "    </tr>\n",
       "    <tr>\n",
       "      <th>bathroomcnt</th>\n",
       "      <td>38598.0</td>\n",
       "      <td>2.274328e+00</td>\n",
       "      <td>9.489663e-01</td>\n",
       "      <td>0.000000e+00</td>\n",
       "      <td>2.000000e+00</td>\n",
       "      <td>2.000000e+00</td>\n",
       "      <td>3.000000e+00</td>\n",
       "      <td>1.100000e+01</td>\n",
       "    </tr>\n",
       "    <tr>\n",
       "      <th>bedroomcnt</th>\n",
       "      <td>38598.0</td>\n",
       "      <td>3.011166e+00</td>\n",
       "      <td>1.025950e+00</td>\n",
       "      <td>0.000000e+00</td>\n",
       "      <td>2.000000e+00</td>\n",
       "      <td>3.000000e+00</td>\n",
       "      <td>4.000000e+00</td>\n",
       "      <td>1.200000e+01</td>\n",
       "    </tr>\n",
       "    <tr>\n",
       "      <th>buildingclasstypeid</th>\n",
       "      <td>0.0</td>\n",
       "      <td>NaN</td>\n",
       "      <td>NaN</td>\n",
       "      <td>NaN</td>\n",
       "      <td>NaN</td>\n",
       "      <td>NaN</td>\n",
       "      <td>NaN</td>\n",
       "      <td>NaN</td>\n",
       "    </tr>\n",
       "    <tr>\n",
       "      <th>buildingqualitytypeid</th>\n",
       "      <td>23698.0</td>\n",
       "      <td>6.610094e+00</td>\n",
       "      <td>1.694168e+00</td>\n",
       "      <td>1.000000e+00</td>\n",
       "      <td>6.000000e+00</td>\n",
       "      <td>7.000000e+00</td>\n",
       "      <td>8.000000e+00</td>\n",
       "      <td>1.200000e+01</td>\n",
       "    </tr>\n",
       "    <tr>\n",
       "      <th>calculatedbathnbr</th>\n",
       "      <td>38455.0</td>\n",
       "      <td>2.282382e+00</td>\n",
       "      <td>9.410045e-01</td>\n",
       "      <td>1.000000e+00</td>\n",
       "      <td>2.000000e+00</td>\n",
       "      <td>2.000000e+00</td>\n",
       "      <td>3.000000e+00</td>\n",
       "      <td>1.100000e+01</td>\n",
       "    </tr>\n",
       "    <tr>\n",
       "      <th>decktypeid</th>\n",
       "      <td>333.0</td>\n",
       "      <td>6.600000e+01</td>\n",
       "      <td>0.000000e+00</td>\n",
       "      <td>6.600000e+01</td>\n",
       "      <td>6.600000e+01</td>\n",
       "      <td>6.600000e+01</td>\n",
       "      <td>6.600000e+01</td>\n",
       "      <td>6.600000e+01</td>\n",
       "    </tr>\n",
       "    <tr>\n",
       "      <th>finishedfloor1squarefeet</th>\n",
       "      <td>3339.0</td>\n",
       "      <td>1.362423e+03</td>\n",
       "      <td>6.423983e+02</td>\n",
       "      <td>4.700000e+01</td>\n",
       "      <td>9.665000e+02</td>\n",
       "      <td>1.263000e+03</td>\n",
       "      <td>1.617500e+03</td>\n",
       "      <td>6.743000e+03</td>\n",
       "    </tr>\n",
       "    <tr>\n",
       "      <th>calculatedfinishedsquarefeet</th>\n",
       "      <td>38500.0</td>\n",
       "      <td>1.762327e+03</td>\n",
       "      <td>9.276875e+02</td>\n",
       "      <td>2.400000e+02</td>\n",
       "      <td>1.174000e+03</td>\n",
       "      <td>1.524500e+03</td>\n",
       "      <td>2.082000e+03</td>\n",
       "      <td>1.724500e+04</td>\n",
       "    </tr>\n",
       "    <tr>\n",
       "      <th>finishedsquarefeet12</th>\n",
       "      <td>38386.0</td>\n",
       "      <td>1.763917e+03</td>\n",
       "      <td>9.280653e+02</td>\n",
       "      <td>2.400000e+02</td>\n",
       "      <td>1.174000e+03</td>\n",
       "      <td>1.526000e+03</td>\n",
       "      <td>2.084000e+03</td>\n",
       "      <td>1.724500e+04</td>\n",
       "    </tr>\n",
       "    <tr>\n",
       "      <th>finishedsquarefeet13</th>\n",
       "      <td>31.0</td>\n",
       "      <td>1.386065e+03</td>\n",
       "      <td>1.307328e+02</td>\n",
       "      <td>1.056000e+03</td>\n",
       "      <td>1.344000e+03</td>\n",
       "      <td>1.440000e+03</td>\n",
       "      <td>1.440000e+03</td>\n",
       "      <td>1.560000e+03</td>\n",
       "    </tr>\n",
       "    <tr>\n",
       "      <th>finishedsquarefeet15</th>\n",
       "      <td>4.0</td>\n",
       "      <td>7.835000e+02</td>\n",
       "      <td>2.737608e+02</td>\n",
       "      <td>6.000000e+02</td>\n",
       "      <td>6.060000e+02</td>\n",
       "      <td>6.760000e+02</td>\n",
       "      <td>8.535000e+02</td>\n",
       "      <td>1.182000e+03</td>\n",
       "    </tr>\n",
       "    <tr>\n",
       "      <th>finishedsquarefeet50</th>\n",
       "      <td>3339.0</td>\n",
       "      <td>1.374163e+03</td>\n",
       "      <td>6.704324e+02</td>\n",
       "      <td>4.700000e+01</td>\n",
       "      <td>9.680000e+02</td>\n",
       "      <td>1.264000e+03</td>\n",
       "      <td>1.623000e+03</td>\n",
       "      <td>6.743000e+03</td>\n",
       "    </tr>\n",
       "    <tr>\n",
       "      <th>finishedsquarefeet6</th>\n",
       "      <td>79.0</td>\n",
       "      <td>1.186848e+03</td>\n",
       "      <td>6.791855e+02</td>\n",
       "      <td>3.800000e+02</td>\n",
       "      <td>7.885000e+02</td>\n",
       "      <td>1.040000e+03</td>\n",
       "      <td>1.290000e+03</td>\n",
       "      <td>4.184000e+03</td>\n",
       "    </tr>\n",
       "    <tr>\n",
       "      <th>fips</th>\n",
       "      <td>38598.0</td>\n",
       "      <td>6.049924e+03</td>\n",
       "      <td>2.142810e+01</td>\n",
       "      <td>6.037000e+03</td>\n",
       "      <td>6.037000e+03</td>\n",
       "      <td>6.037000e+03</td>\n",
       "      <td>6.059000e+03</td>\n",
       "      <td>6.111000e+03</td>\n",
       "    </tr>\n",
       "    <tr>\n",
       "      <th>fireplacecnt</th>\n",
       "      <td>4653.0</td>\n",
       "      <td>1.189340e+00</td>\n",
       "      <td>4.809776e-01</td>\n",
       "      <td>1.000000e+00</td>\n",
       "      <td>1.000000e+00</td>\n",
       "      <td>1.000000e+00</td>\n",
       "      <td>1.000000e+00</td>\n",
       "      <td>4.000000e+00</td>\n",
       "    </tr>\n",
       "    <tr>\n",
       "      <th>fullbathcnt</th>\n",
       "      <td>38455.0</td>\n",
       "      <td>2.209076e+00</td>\n",
       "      <td>9.225062e-01</td>\n",
       "      <td>1.000000e+00</td>\n",
       "      <td>2.000000e+00</td>\n",
       "      <td>2.000000e+00</td>\n",
       "      <td>3.000000e+00</td>\n",
       "      <td>1.100000e+01</td>\n",
       "    </tr>\n",
       "    <tr>\n",
       "      <th>garagecarcnt</th>\n",
       "      <td>13919.0</td>\n",
       "      <td>1.830879e+00</td>\n",
       "      <td>5.799921e-01</td>\n",
       "      <td>0.000000e+00</td>\n",
       "      <td>2.000000e+00</td>\n",
       "      <td>2.000000e+00</td>\n",
       "      <td>2.000000e+00</td>\n",
       "      <td>1.400000e+01</td>\n",
       "    </tr>\n",
       "    <tr>\n",
       "      <th>garagetotalsqft</th>\n",
       "      <td>13919.0</td>\n",
       "      <td>3.552412e+02</td>\n",
       "      <td>2.627301e+02</td>\n",
       "      <td>0.000000e+00</td>\n",
       "      <td>0.000000e+00</td>\n",
       "      <td>4.370000e+02</td>\n",
       "      <td>4.950000e+02</td>\n",
       "      <td>4.251000e+03</td>\n",
       "    </tr>\n",
       "    <tr>\n",
       "      <th>hashottuborspa</th>\n",
       "      <td>889.0</td>\n",
       "      <td>1.000000e+00</td>\n",
       "      <td>0.000000e+00</td>\n",
       "      <td>1.000000e+00</td>\n",
       "      <td>1.000000e+00</td>\n",
       "      <td>1.000000e+00</td>\n",
       "      <td>1.000000e+00</td>\n",
       "      <td>1.000000e+00</td>\n",
       "    </tr>\n",
       "    <tr>\n",
       "      <th>heatingorsystemtypeid</th>\n",
       "      <td>24605.0</td>\n",
       "      <td>3.921926e+00</td>\n",
       "      <td>3.635318e+00</td>\n",
       "      <td>1.000000e+00</td>\n",
       "      <td>2.000000e+00</td>\n",
       "      <td>2.000000e+00</td>\n",
       "      <td>7.000000e+00</td>\n",
       "      <td>2.400000e+01</td>\n",
       "    </tr>\n",
       "    <tr>\n",
       "      <th>latitude</th>\n",
       "      <td>38598.0</td>\n",
       "      <td>3.400299e+07</td>\n",
       "      <td>2.698571e+05</td>\n",
       "      <td>3.333960e+07</td>\n",
       "      <td>3.379996e+07</td>\n",
       "      <td>3.401738e+07</td>\n",
       "      <td>3.417755e+07</td>\n",
       "      <td>3.481877e+07</td>\n",
       "    </tr>\n",
       "    <tr>\n",
       "      <th>longitude</th>\n",
       "      <td>38598.0</td>\n",
       "      <td>-1.182007e+08</td>\n",
       "      <td>3.691493e+05</td>\n",
       "      <td>-1.194484e+08</td>\n",
       "      <td>-1.184230e+08</td>\n",
       "      <td>-1.181698e+08</td>\n",
       "      <td>-1.179120e+08</td>\n",
       "      <td>-1.175554e+08</td>\n",
       "    </tr>\n",
       "    <tr>\n",
       "      <th>lotsizesquarefeet</th>\n",
       "      <td>34237.0</td>\n",
       "      <td>2.962736e+04</td>\n",
       "      <td>1.128549e+05</td>\n",
       "      <td>2.360000e+02</td>\n",
       "      <td>5.809000e+03</td>\n",
       "      <td>7.300000e+03</td>\n",
       "      <td>1.209500e+04</td>\n",
       "      <td>6.971010e+06</td>\n",
       "    </tr>\n",
       "    <tr>\n",
       "      <th>poolcnt</th>\n",
       "      <td>8593.0</td>\n",
       "      <td>1.000000e+00</td>\n",
       "      <td>0.000000e+00</td>\n",
       "      <td>1.000000e+00</td>\n",
       "      <td>1.000000e+00</td>\n",
       "      <td>1.000000e+00</td>\n",
       "      <td>1.000000e+00</td>\n",
       "      <td>1.000000e+00</td>\n",
       "    </tr>\n",
       "    <tr>\n",
       "      <th>poolsizesum</th>\n",
       "      <td>496.0</td>\n",
       "      <td>5.252339e+02</td>\n",
       "      <td>1.522497e+02</td>\n",
       "      <td>1.050000e+02</td>\n",
       "      <td>4.342500e+02</td>\n",
       "      <td>5.000000e+02</td>\n",
       "      <td>6.000000e+02</td>\n",
       "      <td>1.364000e+03</td>\n",
       "    </tr>\n",
       "    <tr>\n",
       "      <th>pooltypeid10</th>\n",
       "      <td>250.0</td>\n",
       "      <td>1.000000e+00</td>\n",
       "      <td>0.000000e+00</td>\n",
       "      <td>1.000000e+00</td>\n",
       "      <td>1.000000e+00</td>\n",
       "      <td>1.000000e+00</td>\n",
       "      <td>1.000000e+00</td>\n",
       "      <td>1.000000e+00</td>\n",
       "    </tr>\n",
       "    <tr>\n",
       "      <th>pooltypeid2</th>\n",
       "      <td>639.0</td>\n",
       "      <td>1.000000e+00</td>\n",
       "      <td>0.000000e+00</td>\n",
       "      <td>1.000000e+00</td>\n",
       "      <td>1.000000e+00</td>\n",
       "      <td>1.000000e+00</td>\n",
       "      <td>1.000000e+00</td>\n",
       "      <td>1.000000e+00</td>\n",
       "    </tr>\n",
       "    <tr>\n",
       "      <th>pooltypeid7</th>\n",
       "      <td>7945.0</td>\n",
       "      <td>1.000000e+00</td>\n",
       "      <td>0.000000e+00</td>\n",
       "      <td>1.000000e+00</td>\n",
       "      <td>1.000000e+00</td>\n",
       "      <td>1.000000e+00</td>\n",
       "      <td>1.000000e+00</td>\n",
       "      <td>1.000000e+00</td>\n",
       "    </tr>\n",
       "    <tr>\n",
       "      <th>rawcensustractandblock</th>\n",
       "      <td>38598.0</td>\n",
       "      <td>6.050220e+07</td>\n",
       "      <td>2.126943e+05</td>\n",
       "      <td>6.037101e+07</td>\n",
       "      <td>6.037400e+07</td>\n",
       "      <td>6.037651e+07</td>\n",
       "      <td>6.059052e+07</td>\n",
       "      <td>6.111009e+07</td>\n",
       "    </tr>\n",
       "    <tr>\n",
       "      <th>regionidcity</th>\n",
       "      <td>37875.0</td>\n",
       "      <td>3.318139e+04</td>\n",
       "      <td>4.503635e+04</td>\n",
       "      <td>3.491000e+03</td>\n",
       "      <td>1.244700e+04</td>\n",
       "      <td>2.521800e+04</td>\n",
       "      <td>4.545700e+04</td>\n",
       "      <td>3.965560e+05</td>\n",
       "    </tr>\n",
       "    <tr>\n",
       "      <th>regionidcounty</th>\n",
       "      <td>38598.0</td>\n",
       "      <td>2.484770e+03</td>\n",
       "      <td>8.167812e+02</td>\n",
       "      <td>1.286000e+03</td>\n",
       "      <td>1.286000e+03</td>\n",
       "      <td>3.101000e+03</td>\n",
       "      <td>3.101000e+03</td>\n",
       "      <td>3.101000e+03</td>\n",
       "    </tr>\n",
       "    <tr>\n",
       "      <th>regionidneighborhood</th>\n",
       "      <td>15154.0</td>\n",
       "      <td>1.855099e+05</td>\n",
       "      <td>1.644195e+05</td>\n",
       "      <td>6.952000e+03</td>\n",
       "      <td>4.146600e+04</td>\n",
       "      <td>1.188250e+05</td>\n",
       "      <td>2.747650e+05</td>\n",
       "      <td>7.641660e+05</td>\n",
       "    </tr>\n",
       "    <tr>\n",
       "      <th>regionidzip</th>\n",
       "      <td>38571.0</td>\n",
       "      <td>9.662596e+04</td>\n",
       "      <td>4.384493e+03</td>\n",
       "      <td>9.598200e+04</td>\n",
       "      <td>9.621000e+04</td>\n",
       "      <td>9.641100e+04</td>\n",
       "      <td>9.699000e+04</td>\n",
       "      <td>3.996750e+05</td>\n",
       "    </tr>\n",
       "    <tr>\n",
       "      <th>roomcnt</th>\n",
       "      <td>38598.0</td>\n",
       "      <td>1.629722e+00</td>\n",
       "      <td>2.931576e+00</td>\n",
       "      <td>0.000000e+00</td>\n",
       "      <td>0.000000e+00</td>\n",
       "      <td>0.000000e+00</td>\n",
       "      <td>0.000000e+00</td>\n",
       "      <td>1.500000e+01</td>\n",
       "    </tr>\n",
       "    <tr>\n",
       "      <th>storytypeid</th>\n",
       "      <td>27.0</td>\n",
       "      <td>7.000000e+00</td>\n",
       "      <td>0.000000e+00</td>\n",
       "      <td>7.000000e+00</td>\n",
       "      <td>7.000000e+00</td>\n",
       "      <td>7.000000e+00</td>\n",
       "      <td>7.000000e+00</td>\n",
       "      <td>7.000000e+00</td>\n",
       "    </tr>\n",
       "    <tr>\n",
       "      <th>threequarterbathnbr</th>\n",
       "      <td>5584.0</td>\n",
       "      <td>1.009670e+00</td>\n",
       "      <td>1.066294e-01</td>\n",
       "      <td>1.000000e+00</td>\n",
       "      <td>1.000000e+00</td>\n",
       "      <td>1.000000e+00</td>\n",
       "      <td>1.000000e+00</td>\n",
       "      <td>3.000000e+00</td>\n",
       "    </tr>\n",
       "    <tr>\n",
       "      <th>typeconstructiontypeid</th>\n",
       "      <td>111.0</td>\n",
       "      <td>6.018018e+00</td>\n",
       "      <td>4.260171e-01</td>\n",
       "      <td>4.000000e+00</td>\n",
       "      <td>6.000000e+00</td>\n",
       "      <td>6.000000e+00</td>\n",
       "      <td>6.000000e+00</td>\n",
       "      <td>1.000000e+01</td>\n",
       "    </tr>\n",
       "    <tr>\n",
       "      <th>unitcnt</th>\n",
       "      <td>23897.0</td>\n",
       "      <td>1.000962e+00</td>\n",
       "      <td>3.233069e-02</td>\n",
       "      <td>1.000000e+00</td>\n",
       "      <td>1.000000e+00</td>\n",
       "      <td>1.000000e+00</td>\n",
       "      <td>1.000000e+00</td>\n",
       "      <td>3.000000e+00</td>\n",
       "    </tr>\n",
       "    <tr>\n",
       "      <th>yardbuildingsqft17</th>\n",
       "      <td>1367.0</td>\n",
       "      <td>3.027579e+02</td>\n",
       "      <td>2.265768e+02</td>\n",
       "      <td>1.100000e+01</td>\n",
       "      <td>1.775000e+02</td>\n",
       "      <td>2.480000e+02</td>\n",
       "      <td>3.600000e+02</td>\n",
       "      <td>3.011000e+03</td>\n",
       "    </tr>\n",
       "    <tr>\n",
       "      <th>yardbuildingsqft26</th>\n",
       "      <td>48.0</td>\n",
       "      <td>2.101458e+02</td>\n",
       "      <td>1.611079e+02</td>\n",
       "      <td>1.600000e+01</td>\n",
       "      <td>7.175000e+01</td>\n",
       "      <td>1.770000e+02</td>\n",
       "      <td>3.050000e+02</td>\n",
       "      <td>6.480000e+02</td>\n",
       "    </tr>\n",
       "    <tr>\n",
       "      <th>yearbuilt</th>\n",
       "      <td>38477.0</td>\n",
       "      <td>1.969518e+03</td>\n",
       "      <td>2.305297e+01</td>\n",
       "      <td>1.878000e+03</td>\n",
       "      <td>1.954000e+03</td>\n",
       "      <td>1.971000e+03</td>\n",
       "      <td>1.987000e+03</td>\n",
       "      <td>2.016000e+03</td>\n",
       "    </tr>\n",
       "    <tr>\n",
       "      <th>numberofstories</th>\n",
       "      <td>9514.0</td>\n",
       "      <td>1.432100e+00</td>\n",
       "      <td>5.418118e-01</td>\n",
       "      <td>1.000000e+00</td>\n",
       "      <td>1.000000e+00</td>\n",
       "      <td>1.000000e+00</td>\n",
       "      <td>2.000000e+00</td>\n",
       "      <td>6.000000e+00</td>\n",
       "    </tr>\n",
       "    <tr>\n",
       "      <th>fireplaceflag</th>\n",
       "      <td>84.0</td>\n",
       "      <td>1.000000e+00</td>\n",
       "      <td>0.000000e+00</td>\n",
       "      <td>1.000000e+00</td>\n",
       "      <td>1.000000e+00</td>\n",
       "      <td>1.000000e+00</td>\n",
       "      <td>1.000000e+00</td>\n",
       "      <td>1.000000e+00</td>\n",
       "    </tr>\n",
       "    <tr>\n",
       "      <th>structuretaxvaluedollarcnt</th>\n",
       "      <td>38546.0</td>\n",
       "      <td>1.904417e+05</td>\n",
       "      <td>2.372173e+05</td>\n",
       "      <td>1.290000e+02</td>\n",
       "      <td>8.450150e+04</td>\n",
       "      <td>1.368720e+05</td>\n",
       "      <td>2.197315e+05</td>\n",
       "      <td>1.142179e+07</td>\n",
       "    </tr>\n",
       "    <tr>\n",
       "      <th>taxvaluedollarcnt</th>\n",
       "      <td>38597.0</td>\n",
       "      <td>4.960079e+05</td>\n",
       "      <td>6.315020e+05</td>\n",
       "      <td>1.000000e+03</td>\n",
       "      <td>2.090000e+05</td>\n",
       "      <td>3.632640e+05</td>\n",
       "      <td>5.772230e+05</td>\n",
       "      <td>2.385837e+07</td>\n",
       "    </tr>\n",
       "    <tr>\n",
       "      <th>assessmentyear</th>\n",
       "      <td>38598.0</td>\n",
       "      <td>2.016000e+03</td>\n",
       "      <td>0.000000e+00</td>\n",
       "      <td>2.016000e+03</td>\n",
       "      <td>2.016000e+03</td>\n",
       "      <td>2.016000e+03</td>\n",
       "      <td>2.016000e+03</td>\n",
       "      <td>2.016000e+03</td>\n",
       "    </tr>\n",
       "    <tr>\n",
       "      <th>landtaxvaluedollarcnt</th>\n",
       "      <td>38597.0</td>\n",
       "      <td>3.058178e+05</td>\n",
       "      <td>4.580507e+05</td>\n",
       "      <td>1.000000e+03</td>\n",
       "      <td>8.698400e+04</td>\n",
       "      <td>2.080000e+05</td>\n",
       "      <td>3.760000e+05</td>\n",
       "      <td>1.635060e+07</td>\n",
       "    </tr>\n",
       "    <tr>\n",
       "      <th>taxamount</th>\n",
       "      <td>38597.0</td>\n",
       "      <td>6.035934e+03</td>\n",
       "      <td>7.352076e+03</td>\n",
       "      <td>1.992000e+01</td>\n",
       "      <td>2.718180e+03</td>\n",
       "      <td>4.462540e+03</td>\n",
       "      <td>6.980780e+03</td>\n",
       "      <td>2.767978e+05</td>\n",
       "    </tr>\n",
       "    <tr>\n",
       "      <th>taxdelinquencyyear</th>\n",
       "      <td>1268.0</td>\n",
       "      <td>1.407098e+01</td>\n",
       "      <td>1.482764e+00</td>\n",
       "      <td>7.000000e+00</td>\n",
       "      <td>1.400000e+01</td>\n",
       "      <td>1.500000e+01</td>\n",
       "      <td>1.500000e+01</td>\n",
       "      <td>1.500000e+01</td>\n",
       "    </tr>\n",
       "    <tr>\n",
       "      <th>censustractandblock</th>\n",
       "      <td>38457.0</td>\n",
       "      <td>6.050212e+13</td>\n",
       "      <td>2.126472e+11</td>\n",
       "      <td>6.037101e+13</td>\n",
       "      <td>6.037400e+13</td>\n",
       "      <td>6.037651e+13</td>\n",
       "      <td>6.059052e+13</td>\n",
       "      <td>6.111009e+13</td>\n",
       "    </tr>\n",
       "    <tr>\n",
       "      <th>id.1</th>\n",
       "      <td>38598.0</td>\n",
       "      <td>5.211623e+04</td>\n",
       "      <td>1.204711e+04</td>\n",
       "      <td>6.250000e+02</td>\n",
       "      <td>4.183250e+04</td>\n",
       "      <td>5.215650e+04</td>\n",
       "      <td>6.249575e+04</td>\n",
       "      <td>7.284400e+04</td>\n",
       "    </tr>\n",
       "    <tr>\n",
       "      <th>logerror</th>\n",
       "      <td>38598.0</td>\n",
       "      <td>1.580366e-02</td>\n",
       "      <td>1.714545e-01</td>\n",
       "      <td>-4.453964e+00</td>\n",
       "      <td>-2.342501e-02</td>\n",
       "      <td>6.798615e-03</td>\n",
       "      <td>3.758995e-02</td>\n",
       "      <td>3.175688e+00</td>\n",
       "    </tr>\n",
       "  </tbody>\n",
       "</table>\n",
       "</div>"
      ],
      "text/plain": [
       "                                count          mean           std  \\\n",
       "propertylandusetypeid         38598.0  2.623585e+02  2.247820e+00   \n",
       "parcelid                      38598.0  1.310582e+07  3.701676e+06   \n",
       "id                            38598.0  1.500565e+06  8.592102e+05   \n",
       "airconditioningtypeid         12222.0  1.900344e+00  3.112865e+00   \n",
       "architecturalstyletypeid        101.0  7.564356e+00  3.232386e+00   \n",
       "basementsqft                     27.0  6.397037e+02  4.459779e+02   \n",
       "bathroomcnt                   38598.0  2.274328e+00  9.489663e-01   \n",
       "bedroomcnt                    38598.0  3.011166e+00  1.025950e+00   \n",
       "buildingclasstypeid               0.0           NaN           NaN   \n",
       "buildingqualitytypeid         23698.0  6.610094e+00  1.694168e+00   \n",
       "calculatedbathnbr             38455.0  2.282382e+00  9.410045e-01   \n",
       "decktypeid                      333.0  6.600000e+01  0.000000e+00   \n",
       "finishedfloor1squarefeet       3339.0  1.362423e+03  6.423983e+02   \n",
       "calculatedfinishedsquarefeet  38500.0  1.762327e+03  9.276875e+02   \n",
       "finishedsquarefeet12          38386.0  1.763917e+03  9.280653e+02   \n",
       "finishedsquarefeet13             31.0  1.386065e+03  1.307328e+02   \n",
       "finishedsquarefeet15              4.0  7.835000e+02  2.737608e+02   \n",
       "finishedsquarefeet50           3339.0  1.374163e+03  6.704324e+02   \n",
       "finishedsquarefeet6              79.0  1.186848e+03  6.791855e+02   \n",
       "fips                          38598.0  6.049924e+03  2.142810e+01   \n",
       "fireplacecnt                   4653.0  1.189340e+00  4.809776e-01   \n",
       "fullbathcnt                   38455.0  2.209076e+00  9.225062e-01   \n",
       "garagecarcnt                  13919.0  1.830879e+00  5.799921e-01   \n",
       "garagetotalsqft               13919.0  3.552412e+02  2.627301e+02   \n",
       "hashottuborspa                  889.0  1.000000e+00  0.000000e+00   \n",
       "heatingorsystemtypeid         24605.0  3.921926e+00  3.635318e+00   \n",
       "latitude                      38598.0  3.400299e+07  2.698571e+05   \n",
       "longitude                     38598.0 -1.182007e+08  3.691493e+05   \n",
       "lotsizesquarefeet             34237.0  2.962736e+04  1.128549e+05   \n",
       "poolcnt                        8593.0  1.000000e+00  0.000000e+00   \n",
       "poolsizesum                     496.0  5.252339e+02  1.522497e+02   \n",
       "pooltypeid10                    250.0  1.000000e+00  0.000000e+00   \n",
       "pooltypeid2                     639.0  1.000000e+00  0.000000e+00   \n",
       "pooltypeid7                    7945.0  1.000000e+00  0.000000e+00   \n",
       "rawcensustractandblock        38598.0  6.050220e+07  2.126943e+05   \n",
       "regionidcity                  37875.0  3.318139e+04  4.503635e+04   \n",
       "regionidcounty                38598.0  2.484770e+03  8.167812e+02   \n",
       "regionidneighborhood          15154.0  1.855099e+05  1.644195e+05   \n",
       "regionidzip                   38571.0  9.662596e+04  4.384493e+03   \n",
       "roomcnt                       38598.0  1.629722e+00  2.931576e+00   \n",
       "storytypeid                      27.0  7.000000e+00  0.000000e+00   \n",
       "threequarterbathnbr            5584.0  1.009670e+00  1.066294e-01   \n",
       "typeconstructiontypeid          111.0  6.018018e+00  4.260171e-01   \n",
       "unitcnt                       23897.0  1.000962e+00  3.233069e-02   \n",
       "yardbuildingsqft17             1367.0  3.027579e+02  2.265768e+02   \n",
       "yardbuildingsqft26               48.0  2.101458e+02  1.611079e+02   \n",
       "yearbuilt                     38477.0  1.969518e+03  2.305297e+01   \n",
       "numberofstories                9514.0  1.432100e+00  5.418118e-01   \n",
       "fireplaceflag                    84.0  1.000000e+00  0.000000e+00   \n",
       "structuretaxvaluedollarcnt    38546.0  1.904417e+05  2.372173e+05   \n",
       "taxvaluedollarcnt             38597.0  4.960079e+05  6.315020e+05   \n",
       "assessmentyear                38598.0  2.016000e+03  0.000000e+00   \n",
       "landtaxvaluedollarcnt         38597.0  3.058178e+05  4.580507e+05   \n",
       "taxamount                     38597.0  6.035934e+03  7.352076e+03   \n",
       "taxdelinquencyyear             1268.0  1.407098e+01  1.482764e+00   \n",
       "censustractandblock           38457.0  6.050212e+13  2.126472e+11   \n",
       "id.1                          38598.0  5.211623e+04  1.204711e+04   \n",
       "logerror                      38598.0  1.580366e-02  1.714545e-01   \n",
       "\n",
       "                                       min           25%           50%  \\\n",
       "propertylandusetypeid         2.610000e+02  2.610000e+02  2.610000e+02   \n",
       "parcelid                      1.071186e+07  1.154833e+07  1.260568e+07   \n",
       "id                            3.490000e+02  7.601705e+05  1.507442e+06   \n",
       "airconditioningtypeid         1.000000e+00  1.000000e+00  1.000000e+00   \n",
       "architecturalstyletypeid      2.000000e+00  7.000000e+00  7.000000e+00   \n",
       "basementsqft                  1.000000e+02  3.490000e+02  6.040000e+02   \n",
       "bathroomcnt                   0.000000e+00  2.000000e+00  2.000000e+00   \n",
       "bedroomcnt                    0.000000e+00  2.000000e+00  3.000000e+00   \n",
       "buildingclasstypeid                    NaN           NaN           NaN   \n",
       "buildingqualitytypeid         1.000000e+00  6.000000e+00  7.000000e+00   \n",
       "calculatedbathnbr             1.000000e+00  2.000000e+00  2.000000e+00   \n",
       "decktypeid                    6.600000e+01  6.600000e+01  6.600000e+01   \n",
       "finishedfloor1squarefeet      4.700000e+01  9.665000e+02  1.263000e+03   \n",
       "calculatedfinishedsquarefeet  2.400000e+02  1.174000e+03  1.524500e+03   \n",
       "finishedsquarefeet12          2.400000e+02  1.174000e+03  1.526000e+03   \n",
       "finishedsquarefeet13          1.056000e+03  1.344000e+03  1.440000e+03   \n",
       "finishedsquarefeet15          6.000000e+02  6.060000e+02  6.760000e+02   \n",
       "finishedsquarefeet50          4.700000e+01  9.680000e+02  1.264000e+03   \n",
       "finishedsquarefeet6           3.800000e+02  7.885000e+02  1.040000e+03   \n",
       "fips                          6.037000e+03  6.037000e+03  6.037000e+03   \n",
       "fireplacecnt                  1.000000e+00  1.000000e+00  1.000000e+00   \n",
       "fullbathcnt                   1.000000e+00  2.000000e+00  2.000000e+00   \n",
       "garagecarcnt                  0.000000e+00  2.000000e+00  2.000000e+00   \n",
       "garagetotalsqft               0.000000e+00  0.000000e+00  4.370000e+02   \n",
       "hashottuborspa                1.000000e+00  1.000000e+00  1.000000e+00   \n",
       "heatingorsystemtypeid         1.000000e+00  2.000000e+00  2.000000e+00   \n",
       "latitude                      3.333960e+07  3.379996e+07  3.401738e+07   \n",
       "longitude                    -1.194484e+08 -1.184230e+08 -1.181698e+08   \n",
       "lotsizesquarefeet             2.360000e+02  5.809000e+03  7.300000e+03   \n",
       "poolcnt                       1.000000e+00  1.000000e+00  1.000000e+00   \n",
       "poolsizesum                   1.050000e+02  4.342500e+02  5.000000e+02   \n",
       "pooltypeid10                  1.000000e+00  1.000000e+00  1.000000e+00   \n",
       "pooltypeid2                   1.000000e+00  1.000000e+00  1.000000e+00   \n",
       "pooltypeid7                   1.000000e+00  1.000000e+00  1.000000e+00   \n",
       "rawcensustractandblock        6.037101e+07  6.037400e+07  6.037651e+07   \n",
       "regionidcity                  3.491000e+03  1.244700e+04  2.521800e+04   \n",
       "regionidcounty                1.286000e+03  1.286000e+03  3.101000e+03   \n",
       "regionidneighborhood          6.952000e+03  4.146600e+04  1.188250e+05   \n",
       "regionidzip                   9.598200e+04  9.621000e+04  9.641100e+04   \n",
       "roomcnt                       0.000000e+00  0.000000e+00  0.000000e+00   \n",
       "storytypeid                   7.000000e+00  7.000000e+00  7.000000e+00   \n",
       "threequarterbathnbr           1.000000e+00  1.000000e+00  1.000000e+00   \n",
       "typeconstructiontypeid        4.000000e+00  6.000000e+00  6.000000e+00   \n",
       "unitcnt                       1.000000e+00  1.000000e+00  1.000000e+00   \n",
       "yardbuildingsqft17            1.100000e+01  1.775000e+02  2.480000e+02   \n",
       "yardbuildingsqft26            1.600000e+01  7.175000e+01  1.770000e+02   \n",
       "yearbuilt                     1.878000e+03  1.954000e+03  1.971000e+03   \n",
       "numberofstories               1.000000e+00  1.000000e+00  1.000000e+00   \n",
       "fireplaceflag                 1.000000e+00  1.000000e+00  1.000000e+00   \n",
       "structuretaxvaluedollarcnt    1.290000e+02  8.450150e+04  1.368720e+05   \n",
       "taxvaluedollarcnt             1.000000e+03  2.090000e+05  3.632640e+05   \n",
       "assessmentyear                2.016000e+03  2.016000e+03  2.016000e+03   \n",
       "landtaxvaluedollarcnt         1.000000e+03  8.698400e+04  2.080000e+05   \n",
       "taxamount                     1.992000e+01  2.718180e+03  4.462540e+03   \n",
       "taxdelinquencyyear            7.000000e+00  1.400000e+01  1.500000e+01   \n",
       "censustractandblock           6.037101e+13  6.037400e+13  6.037651e+13   \n",
       "id.1                          6.250000e+02  4.183250e+04  5.215650e+04   \n",
       "logerror                     -4.453964e+00 -2.342501e-02  6.798615e-03   \n",
       "\n",
       "                                       75%           max  \n",
       "propertylandusetypeid         2.660000e+02  2.750000e+02  \n",
       "parcelid                      1.429947e+07  1.676878e+08  \n",
       "id                            2.243085e+06  2.982274e+06  \n",
       "airconditioningtypeid         1.000000e+00  1.300000e+01  \n",
       "architecturalstyletypeid      7.000000e+00  2.100000e+01  \n",
       "basementsqft                  7.430000e+02  1.969000e+03  \n",
       "bathroomcnt                   3.000000e+00  1.100000e+01  \n",
       "bedroomcnt                    4.000000e+00  1.200000e+01  \n",
       "buildingclasstypeid                    NaN           NaN  \n",
       "buildingqualitytypeid         8.000000e+00  1.200000e+01  \n",
       "calculatedbathnbr             3.000000e+00  1.100000e+01  \n",
       "decktypeid                    6.600000e+01  6.600000e+01  \n",
       "finishedfloor1squarefeet      1.617500e+03  6.743000e+03  \n",
       "calculatedfinishedsquarefeet  2.082000e+03  1.724500e+04  \n",
       "finishedsquarefeet12          2.084000e+03  1.724500e+04  \n",
       "finishedsquarefeet13          1.440000e+03  1.560000e+03  \n",
       "finishedsquarefeet15          8.535000e+02  1.182000e+03  \n",
       "finishedsquarefeet50          1.623000e+03  6.743000e+03  \n",
       "finishedsquarefeet6           1.290000e+03  4.184000e+03  \n",
       "fips                          6.059000e+03  6.111000e+03  \n",
       "fireplacecnt                  1.000000e+00  4.000000e+00  \n",
       "fullbathcnt                   3.000000e+00  1.100000e+01  \n",
       "garagecarcnt                  2.000000e+00  1.400000e+01  \n",
       "garagetotalsqft               4.950000e+02  4.251000e+03  \n",
       "hashottuborspa                1.000000e+00  1.000000e+00  \n",
       "heatingorsystemtypeid         7.000000e+00  2.400000e+01  \n",
       "latitude                      3.417755e+07  3.481877e+07  \n",
       "longitude                    -1.179120e+08 -1.175554e+08  \n",
       "lotsizesquarefeet             1.209500e+04  6.971010e+06  \n",
       "poolcnt                       1.000000e+00  1.000000e+00  \n",
       "poolsizesum                   6.000000e+02  1.364000e+03  \n",
       "pooltypeid10                  1.000000e+00  1.000000e+00  \n",
       "pooltypeid2                   1.000000e+00  1.000000e+00  \n",
       "pooltypeid7                   1.000000e+00  1.000000e+00  \n",
       "rawcensustractandblock        6.059052e+07  6.111009e+07  \n",
       "regionidcity                  4.545700e+04  3.965560e+05  \n",
       "regionidcounty                3.101000e+03  3.101000e+03  \n",
       "regionidneighborhood          2.747650e+05  7.641660e+05  \n",
       "regionidzip                   9.699000e+04  3.996750e+05  \n",
       "roomcnt                       0.000000e+00  1.500000e+01  \n",
       "storytypeid                   7.000000e+00  7.000000e+00  \n",
       "threequarterbathnbr           1.000000e+00  3.000000e+00  \n",
       "typeconstructiontypeid        6.000000e+00  1.000000e+01  \n",
       "unitcnt                       1.000000e+00  3.000000e+00  \n",
       "yardbuildingsqft17            3.600000e+02  3.011000e+03  \n",
       "yardbuildingsqft26            3.050000e+02  6.480000e+02  \n",
       "yearbuilt                     1.987000e+03  2.016000e+03  \n",
       "numberofstories               2.000000e+00  6.000000e+00  \n",
       "fireplaceflag                 1.000000e+00  1.000000e+00  \n",
       "structuretaxvaluedollarcnt    2.197315e+05  1.142179e+07  \n",
       "taxvaluedollarcnt             5.772230e+05  2.385837e+07  \n",
       "assessmentyear                2.016000e+03  2.016000e+03  \n",
       "landtaxvaluedollarcnt         3.760000e+05  1.635060e+07  \n",
       "taxamount                     6.980780e+03  2.767978e+05  \n",
       "taxdelinquencyyear            1.500000e+01  1.500000e+01  \n",
       "censustractandblock           6.059052e+13  6.111009e+13  \n",
       "id.1                          6.249575e+04  7.284400e+04  \n",
       "logerror                      3.758995e-02  3.175688e+00  "
      ]
     },
     "execution_count": 8,
     "metadata": {},
     "output_type": "execute_result"
    }
   ],
   "source": [
    "df.describe().T"
   ]
  },
  {
   "cell_type": "code",
   "execution_count": 9,
   "id": "05207641",
   "metadata": {
    "scrolled": true
   },
   "outputs": [
    {
     "name": "stdout",
     "output_type": "stream",
     "text": [
      "propertylandusetypeid: 0\n",
      "parcelid: 0\n",
      "id: 0\n",
      "airconditioningtypeid: 26376\n",
      "architecturalstyletypeid: 38497\n",
      "basementsqft: 38571\n",
      "bathroomcnt: 0\n",
      "bedroomcnt: 0\n",
      "buildingclasstypeid: 38598\n",
      "buildingqualitytypeid: 14900\n",
      "calculatedbathnbr: 143\n",
      "decktypeid: 38265\n",
      "finishedfloor1squarefeet: 35259\n",
      "calculatedfinishedsquarefeet: 98\n",
      "finishedsquarefeet12: 212\n",
      "finishedsquarefeet13: 38567\n",
      "finishedsquarefeet15: 38594\n",
      "finishedsquarefeet50: 35259\n",
      "finishedsquarefeet6: 38519\n",
      "fips: 0\n",
      "fireplacecnt: 33945\n",
      "fullbathcnt: 143\n",
      "garagecarcnt: 24679\n",
      "garagetotalsqft: 24679\n",
      "hashottuborspa: 37709\n",
      "heatingorsystemtypeid: 13993\n",
      "latitude: 0\n",
      "longitude: 0\n",
      "lotsizesquarefeet: 4361\n",
      "poolcnt: 30005\n",
      "poolsizesum: 38102\n",
      "pooltypeid10: 38348\n",
      "pooltypeid2: 37959\n",
      "pooltypeid7: 30653\n",
      "propertycountylandusecode: 0\n",
      "propertyzoningdesc: 14663\n",
      "rawcensustractandblock: 0\n",
      "regionidcity: 723\n",
      "regionidcounty: 0\n",
      "regionidneighborhood: 23444\n",
      "regionidzip: 27\n",
      "roomcnt: 0\n",
      "storytypeid: 38571\n",
      "threequarterbathnbr: 33014\n",
      "typeconstructiontypeid: 38487\n",
      "unitcnt: 14701\n",
      "yardbuildingsqft17: 37231\n",
      "yardbuildingsqft26: 38550\n",
      "yearbuilt: 121\n",
      "numberofstories: 29084\n",
      "fireplaceflag: 38514\n",
      "structuretaxvaluedollarcnt: 52\n",
      "taxvaluedollarcnt: 1\n",
      "assessmentyear: 0\n",
      "landtaxvaluedollarcnt: 1\n",
      "taxamount: 1\n",
      "taxdelinquencyflag: 37330\n",
      "taxdelinquencyyear: 37330\n",
      "censustractandblock: 141\n",
      "id.1: 0\n",
      "logerror: 0\n",
      "transactiondate: 0\n",
      "propertylandusedesc: 0\n"
     ]
    }
   ],
   "source": [
    "for col in df.columns:\n",
    "    print(f'{col}: {df[col].isnull().sum()}')"
   ]
  },
  {
   "cell_type": "markdown",
   "id": "2d0f599c",
   "metadata": {},
   "source": [
    "**Acquire Takaways**\n",
    "- Some columns are missing several values\n",
    "- We've got a few id columns, some will be dropped since they are unique to that building and provides no value\n",
    "- Some columns have less than one unique value, will be dropped\n",
    "- with so many missing values and useless columns, the Prepare stage will provide us a better idea of our data"
   ]
  },
  {
   "cell_type": "markdown",
   "id": "9a2c468d",
   "metadata": {},
   "source": [
    "# Prepare"
   ]
  },
  {
   "cell_type": "markdown",
   "id": "be3edcb6",
   "metadata": {},
   "source": [
    "### Drop duplicate rows"
   ]
  },
  {
   "cell_type": "code",
   "execution_count": 10,
   "id": "a0eaf63c",
   "metadata": {},
   "outputs": [
    {
     "data": {
      "text/plain": [
       "(38598, 63)"
      ]
     },
     "execution_count": 10,
     "metadata": {},
     "output_type": "execute_result"
    }
   ],
   "source": [
    "df.shape"
   ]
  },
  {
   "cell_type": "code",
   "execution_count": 11,
   "id": "9af398b1",
   "metadata": {},
   "outputs": [],
   "source": [
    "df.drop_duplicates(subset=['parcelid'], inplace=True)"
   ]
  },
  {
   "cell_type": "code",
   "execution_count": 12,
   "id": "5ca258ea",
   "metadata": {},
   "outputs": [
    {
     "data": {
      "text/plain": [
       "(38566, 63)"
      ]
     },
     "execution_count": 12,
     "metadata": {},
     "output_type": "execute_result"
    }
   ],
   "source": [
    "df.shape"
   ]
  },
  {
   "cell_type": "markdown",
   "id": "13bbec74",
   "metadata": {},
   "source": [
    "No Duplicates!"
   ]
  },
  {
   "cell_type": "markdown",
   "id": "2004638f",
   "metadata": {},
   "source": [
    "Drop missing taxvaluedollarcnt and taxamount since these are our target."
   ]
  },
  {
   "cell_type": "code",
   "execution_count": 13,
   "id": "d68b5fb4",
   "metadata": {},
   "outputs": [],
   "source": [
    "df.dropna(subset=['taxvaluedollarcnt', 'taxamount'], inplace=True)"
   ]
  },
  {
   "cell_type": "markdown",
   "id": "940af55c",
   "metadata": {},
   "source": [
    "### Drop columns missing too many values or repetitive columns"
   ]
  },
  {
   "cell_type": "code",
   "execution_count": 14,
   "id": "5fb62b89",
   "metadata": {},
   "outputs": [
    {
     "data": {
      "text/plain": [
       "Index(['propertylandusetypeid', 'parcelid', 'id', 'airconditioningtypeid',\n",
       "       'architecturalstyletypeid', 'basementsqft', 'bathroomcnt', 'bedroomcnt',\n",
       "       'buildingclasstypeid', 'buildingqualitytypeid', 'calculatedbathnbr',\n",
       "       'decktypeid', 'finishedfloor1squarefeet',\n",
       "       'calculatedfinishedsquarefeet', 'finishedsquarefeet12',\n",
       "       'finishedsquarefeet13', 'finishedsquarefeet15', 'finishedsquarefeet50',\n",
       "       'finishedsquarefeet6', 'fips', 'fireplacecnt', 'fullbathcnt',\n",
       "       'garagecarcnt', 'garagetotalsqft', 'hashottuborspa',\n",
       "       'heatingorsystemtypeid', 'latitude', 'longitude', 'lotsizesquarefeet',\n",
       "       'poolcnt', 'poolsizesum', 'pooltypeid10', 'pooltypeid2', 'pooltypeid7',\n",
       "       'propertycountylandusecode', 'propertyzoningdesc',\n",
       "       'rawcensustractandblock', 'regionidcity', 'regionidcounty',\n",
       "       'regionidneighborhood', 'regionidzip', 'roomcnt', 'storytypeid',\n",
       "       'threequarterbathnbr', 'typeconstructiontypeid', 'unitcnt',\n",
       "       'yardbuildingsqft17', 'yardbuildingsqft26', 'yearbuilt',\n",
       "       'numberofstories', 'fireplaceflag', 'structuretaxvaluedollarcnt',\n",
       "       'taxvaluedollarcnt', 'assessmentyear', 'landtaxvaluedollarcnt',\n",
       "       'taxamount', 'taxdelinquencyflag', 'taxdelinquencyyear',\n",
       "       'censustractandblock', 'id.1', 'logerror', 'transactiondate',\n",
       "       'propertylandusedesc'],\n",
       "      dtype='object')"
      ]
     },
     "execution_count": 14,
     "metadata": {},
     "output_type": "execute_result"
    }
   ],
   "source": [
    "df.columns"
   ]
  },
  {
   "cell_type": "code",
   "execution_count": 15,
   "id": "ead1811e",
   "metadata": {
    "scrolled": true
   },
   "outputs": [],
   "source": [
    "df.drop(columns=['finishedfloor1squarefeet', 'id', 'id', 'airconditioningtypeid', 'architecturalstyletypeid', 'buildingclasstypeid', 'assessmentyear', 'censustractandblock', 'structuretaxvaluedollarcnt', 'buildingqualitytypeid', 'latitude', 'longitude', 'regionidcounty', 'regionidzip', 'regionidcity', 'regionidneighborhood', 'rawcensustractandblock', 'storytypeid', 'heatingorsystemtypeid', 'typeconstructiontypeid', 'unitcnt', 'numberofstories', 'landtaxvaluedollarcnt', 'yardbuildingsqft26', 'taxdelinquencyflag', 'calculatedbathnbr', 'pooltypeid10', 'finishedsquarefeet50', 'finishedsquarefeet15', 'finishedsquarefeet13', 'basementsqft', 'decktypeid', 'finishedsquarefeet6', 'yardbuildingsqft17', 'poolsizesum', 'taxdelinquencyyear', 'hashottuborspa', 'id.1', 'finishedsquarefeet12', 'propertyzoningdesc', 'propertycountylandusecode', 'transactiondate', 'propertylandusedesc', 'propertylandusetypeid', 'parcelid', 'pooltypeid7', 'pooltypeid2', 'garagetotalsqft'], inplace=True)"
   ]
  },
  {
   "cell_type": "markdown",
   "id": "85382179",
   "metadata": {},
   "source": [
    "### Rename columns"
   ]
  },
  {
   "cell_type": "code",
   "execution_count": 16,
   "id": "0f068894",
   "metadata": {},
   "outputs": [],
   "source": [
    "df.rename(columns={\"bathroomcnt\": \"bath\",\n",
    "          \"bedroomcnt\": \"bed\",\n",
    "          \"calculatedfinishedsquarefeet\": \"sqft\",\n",
    "          \"area_live_finished\": \"bathcnt\",\n",
    "          \"fullbathcnt\": \"full_bath\",\n",
    "          \"poolcnt\": \"pool\",\n",
    "          \"roomcnt\": \"rooms\",    \n",
    "          \"threequarterbathnbr\": \"three_qtr_bath\",\n",
    "          \"yearbuilt\": \"year\",\n",
    "          \"lotsizesquarefeet\": \"lot_sqft\",\n",
    "          \"taxvaluedollarcnt\": \"tax_value\",\n",
    "          \"fireplacecnt\": \"fireplaces\"\n",
    "          }, inplace=True)"
   ]
  },
  {
   "cell_type": "markdown",
   "id": "bb12224a",
   "metadata": {},
   "source": [
    "### Investigate missing values"
   ]
  },
  {
   "cell_type": "markdown",
   "id": "0f7d6e41",
   "metadata": {},
   "source": [
    "### Impute\n",
    "Impute 0 for missing values where the house is missing this feature:\n",
    "- pools\n",
    "- garagecarcnt\n",
    "- threequarterbath\n",
    "- fireplace"
   ]
  },
  {
   "cell_type": "code",
   "execution_count": 17,
   "id": "fc135c25",
   "metadata": {
    "scrolled": true
   },
   "outputs": [
    {
     "data": {
      "text/plain": [
       "fireplaceflag    38480\n",
       "fireplaces       33916\n",
       "dtype: int64"
      ]
     },
     "execution_count": 17,
     "metadata": {},
     "output_type": "execute_result"
    }
   ],
   "source": [
    "df[['fireplaceflag', 'fireplaces']].isnull().sum()"
   ]
  },
  {
   "cell_type": "code",
   "execution_count": 18,
   "id": "00c2bb85",
   "metadata": {},
   "outputs": [
    {
     "data": {
      "text/html": [
       "<div>\n",
       "<style scoped>\n",
       "    .dataframe tbody tr th:only-of-type {\n",
       "        vertical-align: middle;\n",
       "    }\n",
       "\n",
       "    .dataframe tbody tr th {\n",
       "        vertical-align: top;\n",
       "    }\n",
       "\n",
       "    .dataframe thead th {\n",
       "        text-align: right;\n",
       "    }\n",
       "</style>\n",
       "<table border=\"1\" class=\"dataframe\">\n",
       "  <thead>\n",
       "    <tr style=\"text-align: right;\">\n",
       "      <th></th>\n",
       "      <th>fireplaceflag</th>\n",
       "      <th>fireplaces</th>\n",
       "    </tr>\n",
       "  </thead>\n",
       "  <tbody>\n",
       "    <tr>\n",
       "      <th>1337</th>\n",
       "      <td>1.0</td>\n",
       "      <td>NaN</td>\n",
       "    </tr>\n",
       "    <tr>\n",
       "      <th>1347</th>\n",
       "      <td>1.0</td>\n",
       "      <td>NaN</td>\n",
       "    </tr>\n",
       "    <tr>\n",
       "      <th>2378</th>\n",
       "      <td>1.0</td>\n",
       "      <td>NaN</td>\n",
       "    </tr>\n",
       "    <tr>\n",
       "      <th>2947</th>\n",
       "      <td>1.0</td>\n",
       "      <td>NaN</td>\n",
       "    </tr>\n",
       "    <tr>\n",
       "      <th>3576</th>\n",
       "      <td>1.0</td>\n",
       "      <td>NaN</td>\n",
       "    </tr>\n",
       "    <tr>\n",
       "      <th>...</th>\n",
       "      <td>...</td>\n",
       "      <td>...</td>\n",
       "    </tr>\n",
       "    <tr>\n",
       "      <th>35339</th>\n",
       "      <td>1.0</td>\n",
       "      <td>NaN</td>\n",
       "    </tr>\n",
       "    <tr>\n",
       "      <th>35606</th>\n",
       "      <td>1.0</td>\n",
       "      <td>NaN</td>\n",
       "    </tr>\n",
       "    <tr>\n",
       "      <th>36500</th>\n",
       "      <td>1.0</td>\n",
       "      <td>NaN</td>\n",
       "    </tr>\n",
       "    <tr>\n",
       "      <th>37685</th>\n",
       "      <td>1.0</td>\n",
       "      <td>NaN</td>\n",
       "    </tr>\n",
       "    <tr>\n",
       "      <th>38158</th>\n",
       "      <td>1.0</td>\n",
       "      <td>NaN</td>\n",
       "    </tr>\n",
       "  </tbody>\n",
       "</table>\n",
       "<p>84 rows × 2 columns</p>\n",
       "</div>"
      ],
      "text/plain": [
       "       fireplaceflag  fireplaces\n",
       "1337             1.0         NaN\n",
       "1347             1.0         NaN\n",
       "2378             1.0         NaN\n",
       "2947             1.0         NaN\n",
       "3576             1.0         NaN\n",
       "...              ...         ...\n",
       "35339            1.0         NaN\n",
       "35606            1.0         NaN\n",
       "36500            1.0         NaN\n",
       "37685            1.0         NaN\n",
       "38158            1.0         NaN\n",
       "\n",
       "[84 rows x 2 columns]"
      ]
     },
     "execution_count": 18,
     "metadata": {},
     "output_type": "execute_result"
    }
   ],
   "source": [
    "df[['fireplaceflag', 'fireplaces']][df.fireplaceflag==1]"
   ]
  },
  {
   "cell_type": "code",
   "execution_count": 19,
   "id": "a2070f14",
   "metadata": {
    "scrolled": false
   },
   "outputs": [
    {
     "data": {
      "text/plain": [
       "1337    NaN\n",
       "1347    NaN\n",
       "2378    NaN\n",
       "2947    NaN\n",
       "3576    NaN\n",
       "         ..\n",
       "35339   NaN\n",
       "35606   NaN\n",
       "36500   NaN\n",
       "37685   NaN\n",
       "38158   NaN\n",
       "Name: fireplaces, Length: 84, dtype: float64"
      ]
     },
     "execution_count": 19,
     "metadata": {},
     "output_type": "execute_result"
    }
   ],
   "source": [
    "df.fireplaces[list(df['fireplaces'][df.fireplaceflag==1].index.values)]"
   ]
  },
  {
   "cell_type": "code",
   "execution_count": 20,
   "id": "52371870",
   "metadata": {
    "scrolled": true
   },
   "outputs": [],
   "source": [
    "df.fireplaces[list(df['fireplaces'][df.fireplaceflag==1].index.values)] = df.fireplaces[list(df['fireplaces'][df.fireplaceflag==1].index.values)].fillna(1)"
   ]
  },
  {
   "cell_type": "code",
   "execution_count": 21,
   "id": "4d5afb17",
   "metadata": {},
   "outputs": [
    {
     "data": {
      "text/plain": [
       "33832"
      ]
     },
     "execution_count": 21,
     "metadata": {},
     "output_type": "execute_result"
    }
   ],
   "source": [
    "df.fireplaces.isnull().sum()"
   ]
  },
  {
   "cell_type": "code",
   "execution_count": 22,
   "id": "68d3c175",
   "metadata": {},
   "outputs": [],
   "source": [
    "df.fireplaces.fillna(0, inplace=True)"
   ]
  },
  {
   "cell_type": "markdown",
   "id": "64f93852",
   "metadata": {},
   "source": [
    "---"
   ]
  },
  {
   "cell_type": "code",
   "execution_count": 23,
   "id": "802990fb",
   "metadata": {
    "scrolled": false
   },
   "outputs": [
    {
     "data": {
      "text/plain": [
       "array([nan,  1.])"
      ]
     },
     "execution_count": 23,
     "metadata": {},
     "output_type": "execute_result"
    }
   ],
   "source": [
    "df['pool'].unique()"
   ]
  },
  {
   "cell_type": "code",
   "execution_count": 24,
   "id": "cdbecc0a",
   "metadata": {},
   "outputs": [
    {
     "data": {
      "text/plain": [
       "1"
      ]
     },
     "execution_count": 24,
     "metadata": {},
     "output_type": "execute_result"
    }
   ],
   "source": [
    "df['pool'].nunique()"
   ]
  },
  {
   "cell_type": "code",
   "execution_count": 25,
   "id": "51c41f7f",
   "metadata": {
    "scrolled": true
   },
   "outputs": [],
   "source": [
    "df['pool'].fillna(value=0, inplace=True)"
   ]
  },
  {
   "cell_type": "markdown",
   "id": "91d2ad5f",
   "metadata": {},
   "source": [
    "---"
   ]
  },
  {
   "cell_type": "code",
   "execution_count": 26,
   "id": "f2c42c76",
   "metadata": {},
   "outputs": [
    {
     "data": {
      "text/plain": [
       "24660"
      ]
     },
     "execution_count": 26,
     "metadata": {},
     "output_type": "execute_result"
    }
   ],
   "source": [
    "df['garagecarcnt'].isnull().sum()"
   ]
  },
  {
   "cell_type": "code",
   "execution_count": 27,
   "id": "7df98682",
   "metadata": {},
   "outputs": [],
   "source": [
    "df['garagecarcnt'].fillna(value=0, inplace=True)"
   ]
  },
  {
   "cell_type": "markdown",
   "id": "48abd8c7",
   "metadata": {},
   "source": [
    "---"
   ]
  },
  {
   "cell_type": "code",
   "execution_count": 28,
   "id": "e8793e0d",
   "metadata": {
    "scrolled": true
   },
   "outputs": [
    {
     "data": {
      "text/plain": [
       "bath                0\n",
       "full_bath         143\n",
       "three_qtr_bath    143\n",
       "dtype: int64"
      ]
     },
     "execution_count": 28,
     "metadata": {},
     "output_type": "execute_result"
    }
   ],
   "source": [
    "df[['bath', 'full_bath', 'three_qtr_bath']][df.bath != df.full_bath].isnull().sum()"
   ]
  },
  {
   "cell_type": "code",
   "execution_count": 29,
   "id": "b81ab2d4",
   "metadata": {},
   "outputs": [],
   "source": [
    "df['full_bath'].fillna(value=0, inplace=True)\n",
    "df['three_qtr_bath'].fillna(value=0, inplace=True)"
   ]
  },
  {
   "cell_type": "markdown",
   "id": "110b2bb1",
   "metadata": {},
   "source": [
    "---\n",
    "Impute values for remaing qunatitative variables:\n",
    "- year\n",
    "- sqft\n",
    "- lot_sqft"
   ]
  },
  {
   "cell_type": "code",
   "execution_count": 30,
   "id": "76cb31bc",
   "metadata": {
    "scrolled": true
   },
   "outputs": [
    {
     "data": {
      "text/plain": [
       "bath                  0\n",
       "bed                   0\n",
       "sqft                 98\n",
       "fips                  0\n",
       "fireplaces            0\n",
       "full_bath             0\n",
       "garagecarcnt          0\n",
       "lot_sqft           4354\n",
       "pool                  0\n",
       "rooms                 0\n",
       "three_qtr_bath        0\n",
       "year                121\n",
       "fireplaceflag     38480\n",
       "tax_value             0\n",
       "taxamount             0\n",
       "logerror              0\n",
       "dtype: int64"
      ]
     },
     "execution_count": 30,
     "metadata": {},
     "output_type": "execute_result"
    }
   ],
   "source": [
    "df.isnull().sum()"
   ]
  },
  {
   "cell_type": "code",
   "execution_count": 31,
   "id": "d3adf0a2",
   "metadata": {
    "scrolled": true
   },
   "outputs": [],
   "source": [
    "mean_vals = df[['sqft', 'lot_sqft', 'year']].mean()\n",
    "df[['sqft', 'lot_sqft', 'year']] = df[['sqft', 'lot_sqft', 'year']].fillna(mean_vals)"
   ]
  },
  {
   "cell_type": "code",
   "execution_count": 32,
   "id": "a69cdadf",
   "metadata": {
    "scrolled": false
   },
   "outputs": [
    {
     "data": {
      "text/plain": [
       "bath                  0\n",
       "bed                   0\n",
       "sqft                  0\n",
       "fips                  0\n",
       "fireplaces            0\n",
       "full_bath             0\n",
       "garagecarcnt          0\n",
       "lot_sqft              0\n",
       "pool                  0\n",
       "rooms                 0\n",
       "three_qtr_bath        0\n",
       "year                  0\n",
       "fireplaceflag     38480\n",
       "tax_value             0\n",
       "taxamount             0\n",
       "logerror              0\n",
       "dtype: int64"
      ]
     },
     "execution_count": 32,
     "metadata": {},
     "output_type": "execute_result"
    }
   ],
   "source": [
    "df.isnull().sum()"
   ]
  },
  {
   "cell_type": "markdown",
   "id": "1011a9d8",
   "metadata": {},
   "source": [
    "No more nulls!\n",
    "\n",
    "(Will drop fireplaceflag since number of fireplaces in California may not matter as much as having a fireplace)"
   ]
  },
  {
   "cell_type": "markdown",
   "id": "2c0e9e78",
   "metadata": {},
   "source": [
    "### Change columns to appropriate data types"
   ]
  },
  {
   "cell_type": "code",
   "execution_count": 33,
   "id": "c845843b",
   "metadata": {
    "scrolled": true
   },
   "outputs": [
    {
     "name": "stdout",
     "output_type": "stream",
     "text": [
      "<class 'pandas.core.frame.DataFrame'>\n",
      "Int64Index: 38564 entries, 0 to 38597\n",
      "Data columns (total 16 columns):\n",
      " #   Column          Non-Null Count  Dtype  \n",
      "---  ------          --------------  -----  \n",
      " 0   bath            38564 non-null  float64\n",
      " 1   bed             38564 non-null  float64\n",
      " 2   sqft            38564 non-null  float64\n",
      " 3   fips            38564 non-null  float64\n",
      " 4   fireplaces      38564 non-null  float64\n",
      " 5   full_bath       38564 non-null  float64\n",
      " 6   garagecarcnt    38564 non-null  float64\n",
      " 7   lot_sqft        38564 non-null  float64\n",
      " 8   pool            38564 non-null  float64\n",
      " 9   rooms           38564 non-null  float64\n",
      " 10  three_qtr_bath  38564 non-null  float64\n",
      " 11  year            38564 non-null  float64\n",
      " 12  fireplaceflag   84 non-null     float64\n",
      " 13  tax_value       38564 non-null  float64\n",
      " 14  taxamount       38564 non-null  float64\n",
      " 15  logerror        38564 non-null  float64\n",
      "dtypes: float64(16)\n",
      "memory usage: 6.0 MB\n"
     ]
    }
   ],
   "source": [
    "df.info()"
   ]
  },
  {
   "cell_type": "code",
   "execution_count": 34,
   "id": "5e2d1e23",
   "metadata": {
    "scrolled": true
   },
   "outputs": [],
   "source": [
    "df.reset_index(inplace=True)\n",
    "df.drop(columns='index', inplace=True)\n",
    "\n",
    "df['bed'] = df.bed.astype(int)\n",
    "df['fips'] = df.fips.astype(int)\n",
    "df['full_bath'] = df.full_bath.astype(int)\n",
    "df['garagecarcnt'] = df.garagecarcnt.astype(int)\n",
    "df['pool'] = df['pool'].astype(int)\n",
    "df['rooms'] = df.rooms.astype(int)\n",
    "df['three_qtr_bath'] = df.three_qtr_bath.astype(int)\n",
    "df['year'] = round(df.year, 0).astype(int)\n",
    "df['fireplaces'] = df.fireplaces.astype(int)"
   ]
  },
  {
   "cell_type": "markdown",
   "id": "abd1d90f",
   "metadata": {},
   "source": [
    "For our target variable, we will drop its outliers"
   ]
  },
  {
   "cell_type": "markdown",
   "id": "8b9acde9",
   "metadata": {},
   "source": [
    "### Remove Outliers"
   ]
  },
  {
   "cell_type": "code",
   "execution_count": 36,
   "id": "84febec8",
   "metadata": {},
   "outputs": [],
   "source": [
    "df = df[df.tax_value < df.tax_value.mean() + 3 * df.tax_value.std()]"
   ]
  },
  {
   "cell_type": "code",
   "execution_count": 37,
   "id": "2cbd9063",
   "metadata": {
    "scrolled": false
   },
   "outputs": [
    {
     "data": {
      "text/plain": [
       "<AxesSubplot:xlabel='tax_value', ylabel='Count'>"
      ]
     },
     "execution_count": 37,
     "metadata": {},
     "output_type": "execute_result"
    },
    {
     "data": {
      "image/png": "[encoded data removed]",
      "text/plain": [
       "<Figure size 432x288 with 1 Axes>"
      ]
     },
     "metadata": {
      "needs_background": "light"
     },
     "output_type": "display_data"
    }
   ],
   "source": [
    "sns.histplot(df.tax_value, kde=True)"
   ]
  },
  {
   "cell_type": "code",
   "execution_count": 38,
   "id": "3dc53ae0",
   "metadata": {},
   "outputs": [
    {
     "data": {
      "text/plain": [
       "((38015, 16),\n",
       " count    3.801500e+04\n",
       " mean     4.440843e+05\n",
       " std      3.583254e+05\n",
       " min      1.000000e+03\n",
       " 25%      2.067060e+05\n",
       " 50%      3.586800e+05\n",
       " 75%      5.634630e+05\n",
       " max      2.387340e+06\n",
       " Name: tax_value, dtype: float64)"
      ]
     },
     "execution_count": 38,
     "metadata": {},
     "output_type": "execute_result"
    }
   ],
   "source": [
    "df.shape, \\\n",
    "df.tax_value.describe()"
   ]
  },
  {
   "cell_type": "markdown",
   "id": "63daeafc",
   "metadata": {},
   "source": [
    "### Final column drop"
   ]
  },
  {
   "cell_type": "code",
   "execution_count": 39,
   "id": "211f4725",
   "metadata": {
    "scrolled": true
   },
   "outputs": [],
   "source": [
    "df.drop(columns=['full_bath', 'fireplaceflag'], inplace=True)"
   ]
  },
  {
   "cell_type": "markdown",
   "id": "0fdde2d1",
   "metadata": {},
   "source": [
    "## Calculate and add tax_rate to df"
   ]
  },
  {
   "cell_type": "code",
   "execution_count": 40,
   "id": "f996069a",
   "metadata": {},
   "outputs": [],
   "source": [
    "df['tax_rate'] = df.taxamount / df.tax_value\n",
    "\n",
    "df.tax_rate.describe()"
   ]
  },
  {
   "cell_type": "markdown",
   "id": "14713e0a",
   "metadata": {},
   "source": [
    "Now we work with each county:\n",
    "#### FIPS codes:\n",
    "|Fips code| County|\n",
    "|---|---|\n",
    "|6037 | Los Angeles County|\n",
    "|6059 | Orange County|\n",
    "|6111 | Ventura County|"
   ]
  },
  {
   "cell_type": "code",
   "execution_count": 42,
   "id": "2149f632",
   "metadata": {},
   "outputs": [],
   "source": [
    "LA_county = df[df.fips==6037].tax_rate\n",
    "OC_county = df[df.fips==6059].tax_rate\n",
    "Ventura_county = df[df.fips==6111].tax_rate"
   ]
  },
  {
   "cell_type": "markdown",
   "id": "d742bd8d",
   "metadata": {},
   "source": [
    "### Create categorical and quantitative vars and target var"
   ]
  },
  {
   "cell_type": "code",
   "execution_count": 43,
   "id": "22ae4806",
   "metadata": {},
   "outputs": [],
   "source": [
    "cats = ['fips']\n",
    "quants = ['bath', 'bed', 'sqft', 'garagecarcnt', 'lot_sqft', 'rooms', 'three_qtr_bath', 'year', 'tax_rate', 'pool', 'fireplaces']\n",
    "target = 'tax_value'"
   ]
  },
  {
   "cell_type": "markdown",
   "id": "a2418a35",
   "metadata": {},
   "source": [
    "### Train, Validate, and Test split"
   ]
  },
  {
   "cell_type": "code",
   "execution_count": 44,
   "id": "b9e94043",
   "metadata": {},
   "outputs": [],
   "source": [
    "def split_data(df):\n",
    "    \"\"\"\n",
    "    Splits the data into train, validate, and test dataframes each comprised of 72%, 18%, and 10% of the original dataframe, respectively.\n",
    "    \"\"\"\n",
    "    train_validate, test = train_test_split(df, \n",
    "                                            test_size=.1, \n",
    "                                            random_state=123)\n",
    "    train, validate = train_test_split(train_validate, \n",
    "                                        test_size=.2, \n",
    "                                        random_state=123)\n",
    "    return train, validate, test"
   ]
  },
  {
   "cell_type": "code",
   "execution_count": 45,
   "id": "b0b790ad",
   "metadata": {},
   "outputs": [],
   "source": [
    "train, validate, test = split_data(df)"
   ]
  },
  {
   "cell_type": "code",
   "execution_count": 46,
   "id": "b1b7f7c7",
   "metadata": {},
   "outputs": [
    {
     "data": {
      "text/plain": [
       "((27370, 15), (6843, 15), (3802, 15))"
      ]
     },
     "execution_count": 46,
     "metadata": {},
     "output_type": "execute_result"
    }
   ],
   "source": [
    "train.shape, validate.shape, test.shape"
   ]
  },
  {
   "cell_type": "code",
   "execution_count": 47,
   "id": "3255b8cf",
   "metadata": {},
   "outputs": [],
   "source": [
    "# Setup X and y\n",
    "X_train = train.drop(columns='tax_value')\n",
    "y_train = train.tax_value\n",
    "\n",
    "X_validate = validate.drop(columns='tax_value')\n",
    "y_validate = validate.tax_value\n",
    "\n",
    "X_test = test.drop(columns='tax_value')\n",
    "y_test = test.tax_value"
   ]
  },
  {
   "cell_type": "code",
   "execution_count": 48,
   "id": "3ac2dfdb",
   "metadata": {},
   "outputs": [
    {
     "data": {
      "text/plain": [
       "((27370, 14), (27370,), (6843, 14), (6843,), (3802, 14), (3802,))"
      ]
     },
     "execution_count": 48,
     "metadata": {},
     "output_type": "execute_result"
    }
   ],
   "source": [
    "X_train.shape, y_train.shape, \\\n",
    "X_validate.shape, y_validate.shape, \\\n",
    "X_test.shape, y_test.shape"
   ]
  },
  {
   "cell_type": "markdown",
   "id": "2b84826f",
   "metadata": {},
   "source": [
    "### Scale Data"
   ]
  },
  {
   "cell_type": "code",
   "execution_count": 49,
   "id": "4819c8a7",
   "metadata": {},
   "outputs": [],
   "source": [
    "def minmax_scaler(X_train, X_validate, X_test, quants):\n",
    "    \"\"\"\n",
    "    Takes in split data and individually scales each features to a value within the range of 0 and 1.\n",
    "    Uses min-max scaler method from sklearn.\n",
    "    Returns datasets with new, scaled columns to the added.\n",
    "    \"\"\"\n",
    "    # Scale the data\n",
    "    scaler = sklearn.preprocessing.MinMaxScaler()\n",
    "\n",
    "    # Fit the scaler\n",
    "    scaler.fit(X_train[quants])\n",
    "\n",
    "    # Use the scaler to transform train, validate, test\n",
    "    X_train_scaled = scaler.transform(X_train[quants])\n",
    "    X_validate_scaled = scaler.transform(X_validate[quants])\n",
    "    X_test_scaled = scaler.transform(X_test[quants])\n",
    "\n",
    "\n",
    "    # Turn everything into a dataframe\n",
    "    X_train_scaled = pd.DataFrame(X_train_scaled, columns=X_train[quants].columns)\n",
    "    X_validate_scaled = pd.DataFrame(X_validate_scaled, columns=X_train[quants].columns)\n",
    "    X_test_scaled = pd.DataFrame(X_test_scaled, columns=X_train[quants].columns)\n",
    "    \n",
    "    return X_train_scaled, X_validate_scaled, X_test_scaled"
   ]
  },
  {
   "cell_type": "code",
   "execution_count": 50,
   "id": "0b8421fa",
   "metadata": {},
   "outputs": [],
   "source": [
    "X_train_scaled, X_validate_scaled, X_test_scaled = minmax_scaler(X_train, X_validate, X_test, quants)\n",
    "\n",
    "X_train_scaled.shape, X_validate_scaled.shape, X_test_scaled.shape"
   ]
  },
  {
   "cell_type": "code",
   "execution_count": 52,
   "id": "36b33629",
   "metadata": {
    "scrolled": false
   },
   "outputs": [
    {
     "data": {
      "text/html": [
       "<div>\n",
       "<style scoped>\n",
       "    .dataframe tbody tr th:only-of-type {\n",
       "        vertical-align: middle;\n",
       "    }\n",
       "\n",
       "    .dataframe tbody tr th {\n",
       "        vertical-align: top;\n",
       "    }\n",
       "\n",
       "    .dataframe thead th {\n",
       "        text-align: right;\n",
       "    }\n",
       "</style>\n",
       "<table border=\"1\" class=\"dataframe\">\n",
       "  <thead>\n",
       "    <tr style=\"text-align: right;\">\n",
       "      <th></th>\n",
       "      <th>bath</th>\n",
       "      <th>bed</th>\n",
       "      <th>sqft</th>\n",
       "      <th>fips</th>\n",
       "      <th>fireplaces</th>\n",
       "      <th>garagecarcnt</th>\n",
       "      <th>lot_sqft</th>\n",
       "      <th>pool</th>\n",
       "      <th>rooms</th>\n",
       "      <th>three_qtr_bath</th>\n",
       "      <th>year</th>\n",
       "      <th>taxamount</th>\n",
       "      <th>logerror</th>\n",
       "      <th>tax_rate</th>\n",
       "    </tr>\n",
       "  </thead>\n",
       "  <tbody>\n",
       "    <tr>\n",
       "      <th>36632</th>\n",
       "      <td>2.5</td>\n",
       "      <td>3</td>\n",
       "      <td>1790.0</td>\n",
       "      <td>6059</td>\n",
       "      <td>0</td>\n",
       "      <td>1</td>\n",
       "      <td>3520.0</td>\n",
       "      <td>0</td>\n",
       "      <td>0</td>\n",
       "      <td>1</td>\n",
       "      <td>1997</td>\n",
       "      <td>8945.46</td>\n",
       "      <td>0.092716</td>\n",
       "      <td>0.015318</td>\n",
       "    </tr>\n",
       "    <tr>\n",
       "      <th>25964</th>\n",
       "      <td>2.5</td>\n",
       "      <td>3</td>\n",
       "      <td>1943.0</td>\n",
       "      <td>6059</td>\n",
       "      <td>1</td>\n",
       "      <td>2</td>\n",
       "      <td>5500.0</td>\n",
       "      <td>1</td>\n",
       "      <td>7</td>\n",
       "      <td>1</td>\n",
       "      <td>1969</td>\n",
       "      <td>7172.10</td>\n",
       "      <td>0.034180</td>\n",
       "      <td>0.011138</td>\n",
       "    </tr>\n",
       "    <tr>\n",
       "      <th>30751</th>\n",
       "      <td>2.0</td>\n",
       "      <td>3</td>\n",
       "      <td>1687.0</td>\n",
       "      <td>6037</td>\n",
       "      <td>0</td>\n",
       "      <td>0</td>\n",
       "      <td>5972.0</td>\n",
       "      <td>0</td>\n",
       "      <td>0</td>\n",
       "      <td>0</td>\n",
       "      <td>1959</td>\n",
       "      <td>4097.23</td>\n",
       "      <td>0.137172</td>\n",
       "      <td>0.013215</td>\n",
       "    </tr>\n",
       "    <tr>\n",
       "      <th>24579</th>\n",
       "      <td>2.0</td>\n",
       "      <td>4</td>\n",
       "      <td>2194.0</td>\n",
       "      <td>6059</td>\n",
       "      <td>0</td>\n",
       "      <td>2</td>\n",
       "      <td>10444.0</td>\n",
       "      <td>0</td>\n",
       "      <td>7</td>\n",
       "      <td>0</td>\n",
       "      <td>1957</td>\n",
       "      <td>7076.08</td>\n",
       "      <td>0.046305</td>\n",
       "      <td>0.011342</td>\n",
       "    </tr>\n",
       "    <tr>\n",
       "      <th>27491</th>\n",
       "      <td>2.5</td>\n",
       "      <td>4</td>\n",
       "      <td>2309.0</td>\n",
       "      <td>6059</td>\n",
       "      <td>0</td>\n",
       "      <td>2</td>\n",
       "      <td>4737.0</td>\n",
       "      <td>0</td>\n",
       "      <td>0</td>\n",
       "      <td>1</td>\n",
       "      <td>1997</td>\n",
       "      <td>10032.12</td>\n",
       "      <td>-0.018775</td>\n",
       "      <td>0.014138</td>\n",
       "    </tr>\n",
       "  </tbody>\n",
       "</table>\n",
       "</div>"
      ],
      "text/plain": [
       "       bath  bed    sqft  fips  fireplaces  garagecarcnt  lot_sqft  pool  \\\n",
       "36632   2.5    3  1790.0  6059           0             1    3520.0     0   \n",
       "25964   2.5    3  1943.0  6059           1             2    5500.0     1   \n",
       "30751   2.0    3  1687.0  6037           0             0    5972.0     0   \n",
       "24579   2.0    4  2194.0  6059           0             2   10444.0     0   \n",
       "27491   2.5    4  2309.0  6059           0             2    4737.0     0   \n",
       "\n",
       "       rooms  three_qtr_bath  year  taxamount  logerror  tax_rate  \n",
       "36632      0               1  1997    8945.46  0.092716  0.015318  \n",
       "25964      7               1  1969    7172.10  0.034180  0.011138  \n",
       "30751      0               0  1959    4097.23  0.137172  0.013215  \n",
       "24579      7               0  1957    7076.08  0.046305  0.011342  \n",
       "27491      0               1  1997   10032.12 -0.018775  0.014138  "
      ]
     },
     "execution_count": 52,
     "metadata": {},
     "output_type": "execute_result"
    }
   ],
   "source": [
    "X_train.head()"
   ]
  },
  {
   "cell_type": "code",
   "execution_count": 53,
   "id": "e0b85224",
   "metadata": {
    "scrolled": false
   },
   "outputs": [
    {
     "data": {
      "text/html": [
       "<div>\n",
       "<style scoped>\n",
       "    .dataframe tbody tr th:only-of-type {\n",
       "        vertical-align: middle;\n",
       "    }\n",
       "\n",
       "    .dataframe tbody tr th {\n",
       "        vertical-align: top;\n",
       "    }\n",
       "\n",
       "    .dataframe thead th {\n",
       "        text-align: right;\n",
       "    }\n",
       "</style>\n",
       "<table border=\"1\" class=\"dataframe\">\n",
       "  <thead>\n",
       "    <tr style=\"text-align: right;\">\n",
       "      <th></th>\n",
       "      <th>bath</th>\n",
       "      <th>bed</th>\n",
       "      <th>sqft</th>\n",
       "      <th>garagecarcnt</th>\n",
       "      <th>lot_sqft</th>\n",
       "      <th>rooms</th>\n",
       "      <th>three_qtr_bath</th>\n",
       "      <th>year</th>\n",
       "      <th>tax_rate</th>\n",
       "      <th>pool</th>\n",
       "      <th>fireplaces</th>\n",
       "    </tr>\n",
       "  </thead>\n",
       "  <tbody>\n",
       "    <tr>\n",
       "      <th>0</th>\n",
       "      <td>0.3125</td>\n",
       "      <td>0.272727</td>\n",
       "      <td>0.192594</td>\n",
       "      <td>0.071429</td>\n",
       "      <td>0.000471</td>\n",
       "      <td>0.000000</td>\n",
       "      <td>0.333333</td>\n",
       "      <td>0.862319</td>\n",
       "      <td>0.018590</td>\n",
       "      <td>0.0</td>\n",
       "      <td>0.00</td>\n",
       "    </tr>\n",
       "    <tr>\n",
       "      <th>1</th>\n",
       "      <td>0.3125</td>\n",
       "      <td>0.272727</td>\n",
       "      <td>0.211605</td>\n",
       "      <td>0.142857</td>\n",
       "      <td>0.000755</td>\n",
       "      <td>0.538462</td>\n",
       "      <td>0.333333</td>\n",
       "      <td>0.659420</td>\n",
       "      <td>0.013470</td>\n",
       "      <td>1.0</td>\n",
       "      <td>0.25</td>\n",
       "    </tr>\n",
       "    <tr>\n",
       "      <th>2</th>\n",
       "      <td>0.2500</td>\n",
       "      <td>0.272727</td>\n",
       "      <td>0.179796</td>\n",
       "      <td>0.000000</td>\n",
       "      <td>0.000823</td>\n",
       "      <td>0.000000</td>\n",
       "      <td>0.000000</td>\n",
       "      <td>0.586957</td>\n",
       "      <td>0.016014</td>\n",
       "      <td>0.0</td>\n",
       "      <td>0.00</td>\n",
       "    </tr>\n",
       "    <tr>\n",
       "      <th>3</th>\n",
       "      <td>0.2500</td>\n",
       "      <td>0.363636</td>\n",
       "      <td>0.242793</td>\n",
       "      <td>0.142857</td>\n",
       "      <td>0.001464</td>\n",
       "      <td>0.538462</td>\n",
       "      <td>0.000000</td>\n",
       "      <td>0.572464</td>\n",
       "      <td>0.013720</td>\n",
       "      <td>0.0</td>\n",
       "      <td>0.00</td>\n",
       "    </tr>\n",
       "    <tr>\n",
       "      <th>4</th>\n",
       "      <td>0.3125</td>\n",
       "      <td>0.363636</td>\n",
       "      <td>0.257083</td>\n",
       "      <td>0.142857</td>\n",
       "      <td>0.000646</td>\n",
       "      <td>0.000000</td>\n",
       "      <td>0.333333</td>\n",
       "      <td>0.862319</td>\n",
       "      <td>0.017145</td>\n",
       "      <td>0.0</td>\n",
       "      <td>0.00</td>\n",
       "    </tr>\n",
       "  </tbody>\n",
       "</table>\n",
       "</div>"
      ],
      "text/plain": [
       "     bath       bed      sqft  garagecarcnt  lot_sqft     rooms  \\\n",
       "0  0.3125  0.272727  0.192594      0.071429  0.000471  0.000000   \n",
       "1  0.3125  0.272727  0.211605      0.142857  0.000755  0.538462   \n",
       "2  0.2500  0.272727  0.179796      0.000000  0.000823  0.000000   \n",
       "3  0.2500  0.363636  0.242793      0.142857  0.001464  0.538462   \n",
       "4  0.3125  0.363636  0.257083      0.142857  0.000646  0.000000   \n",
       "\n",
       "   three_qtr_bath      year  tax_rate  pool  fireplaces  \n",
       "0        0.333333  0.862319  0.018590   0.0        0.00  \n",
       "1        0.333333  0.659420  0.013470   1.0        0.25  \n",
       "2        0.000000  0.586957  0.016014   0.0        0.00  \n",
       "3        0.000000  0.572464  0.013720   0.0        0.00  \n",
       "4        0.333333  0.862319  0.017145   0.0        0.00  "
      ]
     },
     "execution_count": 53,
     "metadata": {},
     "output_type": "execute_result"
    }
   ],
   "source": [
    "X_train_scaled.head()"
   ]
  },
  {
   "cell_type": "code",
   "execution_count": 54,
   "id": "83a02ca8",
   "metadata": {},
   "outputs": [],
   "source": [
    "def explore_univariate(train, cat_vars, quant_vars):\n",
    "    for var in cat_vars:\n",
    "        explore_univariate_categorical(train, var)\n",
    "        print('_________________________________________________________________')\n",
    "    for col in quant_vars:\n",
    "        p, descriptive_stats = explore_univariate_quant(train, col)\n",
    "        plt.show(p)\n",
    "        print(descriptive_stats)\n",
    "\n",
    "def explore_bivariate(train, target, cat_vars, quant_vars):\n",
    "    for cat in cat_vars:\n",
    "        explore_bivariate_categorical(train, target, cat)\n",
    "    for quant in quant_vars:\n",
    "        explore_bivariate_quant(train, target, quant)\n",
    "\n",
    "def explore_multivariate(train, target, cat_vars, quant_vars):\n",
    "    '''\n",
    "    '''\n",
    "    plot_swarm_grid_with_color(train, target, cat_vars, quant_vars)\n",
    "    plt.show()\n",
    "    violin = plot_violin_grid_with_color(train, target, cat_vars, quant_vars)\n",
    "    plt.show()\n",
    "    pair = sns.pairplot(data=train, vars=quant_vars, hue=target)\n",
    "    plt.show()\n",
    "    plot_all_continuous_vars(train, target, quant_vars)\n",
    "    plt.show()    \n",
    "\n",
    "\n",
    "### Univariate\n",
    "\n",
    "def explore_univariate_categorical(train, cat_var):\n",
    "    '''\n",
    "    takes in a dataframe and a categorical variable and returns\n",
    "    a frequency table and barplot of the frequencies. \n",
    "    '''\n",
    "    frequency_table = freq_table(train, cat_var)\n",
    "    plt.figure(figsize=(2,2))\n",
    "    sns.barplot(x=cat_var, y='Count', data=frequency_table, color='lightseagreen')\n",
    "    plt.title(cat_var)\n",
    "    plt.show()\n",
    "    print(frequency_table)\n",
    "\n",
    "def explore_univariate_quant(train, quant_var):\n",
    "    '''\n",
    "    takes in a dataframe and a quantitative variable and returns\n",
    "    descriptive stats table, histogram, and boxplot of the distributions. \n",
    "    '''\n",
    "    descriptive_stats = train[quant_var].describe()\n",
    "    plt.figure(figsize=(8,2))\n",
    "\n",
    "    p = plt.subplot(1, 2, 1)\n",
    "    p = plt.hist(train[quant_var], color='lightseagreen')\n",
    "    p = plt.title(quant_var)\n",
    "\n",
    "    # second plot: box plot\n",
    "    p = plt.subplot(1, 2, 2)\n",
    "    p = plt.boxplot(train[quant_var])\n",
    "    p = plt.title(quant_var)\n",
    "    return p, descriptive_stats\n",
    "\n",
    "def freq_table(train, cat_var):\n",
    "    '''\n",
    "    for a given categorical variable, compute the frequency count and percent split\n",
    "    and return a dataframe of those values along with the different classes. \n",
    "    '''\n",
    "    class_labels = list(train[cat_var].unique())\n",
    "\n",
    "    frequency_table = (\n",
    "        pd.DataFrame({cat_var: class_labels,\n",
    "                      'Count': train[cat_var].value_counts(normalize=False), \n",
    "                      'Percent': round(train[cat_var].value_counts(normalize=True)*100,2)}\n",
    "                    )\n",
    "    )\n",
    "    return frequency_table\n",
    "\n",
    "\n",
    "#### Bivariate\n",
    "\n",
    "def explore_bivariate_categorical(train, target, cat_var):\n",
    "    '''\n",
    "    takes in categorical variable and binary target variable, \n",
    "    returns a crosstab of frequencies\n",
    "    runs a chi-square test for the proportions\n",
    "    and creates a barplot, adding a horizontal line of the overall rate of the target. \n",
    "    '''\n",
    "    print(cat_var, \"\\n_____________________\\n\")\n",
    "    ct = pd.crosstab(train[cat_var], train[target], margins=True)\n",
    "    chi2_summary, observed, expected = run_chi2(train, cat_var, target)\n",
    "    p = plot_cat_by_target(train, target, cat_var)\n",
    "\n",
    "    print(chi2_summary)\n",
    "    print(\"\\nobserved:\\n\", ct)\n",
    "    print(\"\\nexpected:\\n\", expected)\n",
    "    plt.show(p)\n",
    "    print(\"\\n_____________________\\n\")\n",
    "\n",
    "def explore_bivariate_quant(train, target, quant_var):\n",
    "    '''\n",
    "    descriptive stats by each target class. \n",
    "    compare means across 2 target groups \n",
    "    boxenplot of target x quant\n",
    "    swarmplot of target x quant\n",
    "    '''\n",
    "    print(quant_var, \"\\n____________________\\n\")\n",
    "    descriptive_stats = train.groupby(target)[quant_var].describe()\n",
    "    average = train[quant_var].mean()\n",
    "    mann_whitney = compare_means(train, target, quant_var)\n",
    "    plt.figure(figsize=(4,4))\n",
    "    boxen = plot_boxen(train, target, quant_var)\n",
    "    swarm = plot_swarm(train, target, quant_var)\n",
    "    plt.show()\n",
    "    print(descriptive_stats, \"\\n\")\n",
    "    print(\"\\nMann-Whitney Test:\\n\", mann_whitney)\n",
    "    print(\"\\n____________________\\n\")\n",
    "    \n",
    "## Bivariate Categorical\n",
    "\n",
    "def run_chi2(train, cat_var, target):\n",
    "    observed = pd.crosstab(train[cat_var], train[target])\n",
    "    chi2, p, degf, expected = stats.chi2_contingency(observed)\n",
    "    chi2_summary = pd.DataFrame({'chi2': [chi2], 'p-value': [p], \n",
    "                                 'degrees of freedom': [degf]})\n",
    "    expected = pd.DataFrame(expected)\n",
    "    return chi2_summary, observed, expected\n",
    "\n",
    "def plot_cat_by_target(train, target, cat_var):\n",
    "    p = plt.figure(figsize=(2,2))\n",
    "    p = sns.barplot(cat_var, target, data=train, alpha=.8, color='lightseagreen')\n",
    "    overall_rate = train[target].mean()\n",
    "    p = plt.axhline(overall_rate, ls='--', color='gray')\n",
    "    return p\n",
    "\n",
    "\n",
    "## Bivariate Quant\n",
    "\n",
    "def plot_swarm(train, target, quant_var):\n",
    "    average = train[quant_var].mean()\n",
    "    p = sns.swarmplot(data=train, x=target, y=quant_var, color='lightgray')\n",
    "    p = plt.title(quant_var)\n",
    "    p = plt.axhline(average, ls='--', color='black')\n",
    "    return p\n",
    "\n",
    "def plot_boxen(train, target, quant_var):\n",
    "    average = train[quant_var].mean()\n",
    "    p = sns.boxenplot(data=train, x=target, y=quant_var, color='lightseagreen')\n",
    "    p = plt.title(quant_var)\n",
    "    p = plt.axhline(average, ls='--', color='black')\n",
    "    return p\n",
    "\n",
    "# alt_hyp = ‘two-sided’, ‘less’, ‘greater’\n",
    "\n",
    "def compare_means(train, target, quant_var, alt_hyp='two-sided'):\n",
    "    x = train[train[target]==0][quant_var]\n",
    "    y = train[train[target]==1][quant_var]\n",
    "    return stats.mannwhitneyu(x, y, use_continuity=True, alternative=alt_hyp)\n",
    "\n",
    "\n",
    "### Multivariate\n",
    "\n",
    "def plot_all_continuous_vars(train, target, quant_vars):\n",
    "    '''\n",
    "    Melt the dataset to \"long-form\" representation\n",
    "    boxenplot of measurement x value with color representing the target variable. \n",
    "    '''\n",
    "    my_vars = [item for sublist in [quant_vars, [target]] for item in sublist]\n",
    "    sns.set(style=\"whitegrid\", palette=\"muted\")\n",
    "    melt = train[my_vars].melt(id_vars=target, var_name=\"measurement\")\n",
    "    plt.figure(figsize=(8,6))\n",
    "    p = sns.boxenplot(x=\"measurement\", y=\"value\", hue=target, data=melt)\n",
    "    p.set(yscale=\"log\", xlabel='')    \n",
    "    plt.show()\n",
    "\n",
    "def plot_violin_grid_with_color(train, target, cat_vars, quant_vars):\n",
    "    cols = len(cat_vars)\n",
    "    for quant in quant_vars:\n",
    "        _, ax = plt.subplots(nrows=1, ncols=cols, figsize=(16, 4), sharey=True)\n",
    "        for i, cat in enumerate(cat_vars):\n",
    "            sns.violinplot(x=cat, y=quant, data=train, split=True, \n",
    "                           ax=ax[i], hue=target, palette=\"Set2\")\n",
    "            ax[i].set_xlabel('')\n",
    "            ax[i].set_ylabel(quant)\n",
    "            ax[i].set_title(cat)\n",
    "        plt.show()\n",
    "\n",
    "def plot_swarm_grid_with_color(train, target, cat_vars, quant_vars):\n",
    "    cols = len(cat_vars)\n",
    "    for quant in quant_vars:\n",
    "        _, ax = plt.subplots(nrows=1, ncols=cols, figsize=(16, 4), sharey=True)\n",
    "        for i, cat in enumerate(cat_vars):\n",
    "            sns.swarmplot(x=cat, y=quant, data=train, ax=ax[i], hue=target, palette=\"Set2\")\n",
    "            ax[i].set_xlabel('')\n",
    "            ax[i].set_ylabel(quant)\n",
    "            ax[i].set_title(cat)\n",
    "        plt.show()\n",
    "        \n",
    "def plot_categorical_and_continuous_vars(train, cats, quants):\n",
    "    \"\"\"\n",
    "    Function takes in a df, categorical variables, and quantitative variable and returns a violin plot, \n",
    "    ked plot, and box plot for each combination of categorical vars to quantitative vars.\n",
    "    \"\"\"\n",
    "    for quant in train[quants]:\n",
    "        print('-------------------------------------------------')\n",
    "        print(f'{quant}')\n",
    "        print('-------------------------------------------------')\n",
    "        for cat in train[cats]:\n",
    "            print(f'vs. {cat}')    \n",
    "            fig = plt.figure(figsize=(20,4))\n",
    "\n",
    "            #subplot 1\n",
    "            plt.subplot(131)\n",
    "            plt.title('Violin Plot')\n",
    "            sns.violinplot(x=quant, y=cat, data=train, palette=\"Set2\")\n",
    "\n",
    "            #subplot 2\n",
    "            plt.subplot(132)\n",
    "            plt.title('Kernel Density Estimate Plot')\n",
    "            sns.kdeplot(data=train, x=quant, hue=cat, multiple=\"stack\", shade_lowest=True, palette=\"Set2\")\n",
    "\n",
    "            #subplot 3\n",
    "            plt.subplot('133')\n",
    "            sns.boxenplot(data=train, x=quant, y=cat, palette=\"Set2\")\n",
    "            plt.title('Box Plot')\n",
    "            print('---------------')\n",
    "            plt.show() "
   ]
  },
  {
   "cell_type": "code",
   "execution_count": 55,
   "id": "b526a53d",
   "metadata": {
    "scrolled": true
   },
   "outputs": [
    {
     "data": {
      "image/png": "[encoded data removed]",
      "text/plain": [
       "<Figure size 144x144 with 1 Axes>"
      ]
     },
     "metadata": {
      "needs_background": "light"
     },
     "output_type": "display_data"
    },
    {
     "name": "stdout",
     "output_type": "stream",
     "text": [
      "      fips  Count  Percent\n",
      "6037  6059  17003    62.12\n",
      "6059  6037   7907    28.89\n",
      "6111  6111   2460     8.99\n",
      "_________________________________________________________________\n"
     ]
    },
    {
     "data": {
      "image/png": "[encoded data removed]",
      "text/plain": [
       "<Figure size 576x144 with 2 Axes>"
      ]
     },
     "metadata": {
      "needs_background": "light"
     },
     "output_type": "display_data"
    },
    {
     "name": "stdout",
     "output_type": "stream",
     "text": [
      "count    27370.000000\n",
      "mean         2.238199\n",
      "std          0.882576\n",
      "min          0.000000\n",
      "25%          2.000000\n",
      "50%          2.000000\n",
      "75%          3.000000\n",
      "max          8.000000\n",
      "Name: bath, dtype: float64\n"
     ]
    },
    {
     "data": {
      "image/png": "[encoded data removed]",
      "text/plain": [
       "<Figure size 576x144 with 2 Axes>"
      ]
     },
     "metadata": {
      "needs_background": "light"
     },
     "output_type": "display_data"
    },
    {
     "name": "stdout",
     "output_type": "stream",
     "text": [
      "count    27370.000000\n",
      "mean         2.994483\n",
      "std          1.005087\n",
      "min          0.000000\n",
      "25%          2.000000\n",
      "50%          3.000000\n",
      "75%          4.000000\n",
      "max         11.000000\n",
      "Name: bed, dtype: float64\n"
     ]
    },
    {
     "data": {
      "image/png": "[encoded data removed]",
      "text/plain": [
       "<Figure size 576x144 with 2 Axes>"
      ]
     },
     "metadata": {
      "needs_background": "light"
     },
     "output_type": "display_data"
    },
    {
     "name": "stdout",
     "output_type": "stream",
     "text": [
      "count    27370.000000\n",
      "mean      1717.955979\n",
      "std        813.022335\n",
      "min        240.000000\n",
      "25%       1168.000000\n",
      "50%       1516.000000\n",
      "75%       2047.000000\n",
      "max       8288.000000\n",
      "Name: sqft, dtype: float64\n"
     ]
    },
    {
     "data": {
      "image/png": "[encoded data removed]",
      "text/plain": [
       "<Figure size 576x144 with 2 Axes>"
      ]
     },
     "metadata": {
      "needs_background": "light"
     },
     "output_type": "display_data"
    },
    {
     "name": "stdout",
     "output_type": "stream",
     "text": [
      "count    27370.000000\n",
      "mean         0.658677\n",
      "std          0.936888\n",
      "min          0.000000\n",
      "25%          0.000000\n",
      "50%          0.000000\n",
      "75%          2.000000\n",
      "max         14.000000\n",
      "Name: garagecarcnt, dtype: float64\n"
     ]
    },
    {
     "data": {
      "image/png": "[encoded data removed]",
      "text/plain": [
       "<Figure size 576x144 with 2 Axes>"
      ]
     },
     "metadata": {
      "needs_background": "light"
     },
     "output_type": "display_data"
    },
    {
     "name": "stdout",
     "output_type": "stream",
     "text": [
      "count    2.737000e+04\n",
      "mean     3.003672e+04\n",
      "std      1.081476e+05\n",
      "min      2.360000e+02\n",
      "25%      6.000000e+03\n",
      "50%      7.699500e+03\n",
      "75%      2.325925e+04\n",
      "max      6.971010e+06\n",
      "Name: lot_sqft, dtype: float64\n"
     ]
    },
    {
     "data": {
      "image/png": "[encoded data removed]",
      "text/plain": [
       "<Figure size 576x144 with 2 Axes>"
      ]
     },
     "metadata": {
      "needs_background": "light"
     },
     "output_type": "display_data"
    },
    {
     "name": "stdout",
     "output_type": "stream",
     "text": [
      "count    27370.000000\n",
      "mean         1.637998\n",
      "std          2.931541\n",
      "min          0.000000\n",
      "25%          0.000000\n",
      "50%          0.000000\n",
      "75%          3.000000\n",
      "max         13.000000\n",
      "Name: rooms, dtype: float64\n"
     ]
    },
    {
     "data": {
      "image/png": "[encoded data removed]",
      "text/plain": [
       "<Figure size 576x144 with 2 Axes>"
      ]
     },
     "metadata": {
      "needs_background": "light"
     },
     "output_type": "display_data"
    },
    {
     "name": "stdout",
     "output_type": "stream",
     "text": [
      "count    27370.000000\n",
      "mean         0.146328\n",
      "std          0.356016\n",
      "min          0.000000\n",
      "25%          0.000000\n",
      "50%          0.000000\n",
      "75%          0.000000\n",
      "max          3.000000\n",
      "Name: three_qtr_bath, dtype: float64\n"
     ]
    },
    {
     "data": {
      "image/png": "[encoded data removed]",
      "text/plain": [
       "<Figure size 576x144 with 2 Axes>"
      ]
     },
     "metadata": {
      "needs_background": "light"
     },
     "output_type": "display_data"
    },
    {
     "name": "stdout",
     "output_type": "stream",
     "text": [
      "count    27370.000000\n",
      "mean      1969.393350\n",
      "std         22.870767\n",
      "min       1878.000000\n",
      "25%       1954.000000\n",
      "50%       1970.000000\n",
      "75%       1987.000000\n",
      "max       2016.000000\n",
      "Name: year, dtype: float64\n"
     ]
    },
    {
     "data": {
      "image/png": "[encoded data removed]",
      "text/plain": [
       "<Figure size 576x144 with 2 Axes>"
      ]
     },
     "metadata": {
      "needs_background": "light"
     },
     "output_type": "display_data"
    },
    {
     "name": "stdout",
     "output_type": "stream",
     "text": [
      "count    27370.000000\n",
      "mean         0.013138\n",
      "std          0.007217\n",
      "min          0.000141\n",
      "25%          0.011584\n",
      "50%          0.012246\n",
      "75%          0.013384\n",
      "max          0.816490\n",
      "Name: tax_rate, dtype: float64\n"
     ]
    },
    {
     "data": {
      "image/png": "[encoded data removed]",
      "text/plain": [
       "<Figure size 576x144 with 2 Axes>"
      ]
     },
     "metadata": {
      "needs_background": "light"
     },
     "output_type": "display_data"
    },
    {
     "name": "stdout",
     "output_type": "stream",
     "text": [
      "count    27370.000000\n",
      "mean         0.216478\n",
      "std          0.411851\n",
      "min          0.000000\n",
      "25%          0.000000\n",
      "50%          0.000000\n",
      "75%          0.000000\n",
      "max          1.000000\n",
      "Name: pool, dtype: float64\n"
     ]
    },
    {
     "data": {
      "image/png": "[encoded data removed]",
      "text/plain": [
       "<Figure size 576x144 with 2 Axes>"
      ]
     },
     "metadata": {
      "needs_background": "light"
     },
     "output_type": "display_data"
    },
    {
     "name": "stdout",
     "output_type": "stream",
     "text": [
      "count    27370.000000\n",
      "mean         0.144282\n",
      "std          0.416915\n",
      "min          0.000000\n",
      "25%          0.000000\n",
      "50%          0.000000\n",
      "75%          0.000000\n",
      "max          4.000000\n",
      "Name: fireplaces, dtype: float64\n"
     ]
    }
   ],
   "source": [
    "def explore_univariate(train, cat_vars, quant_vars):\n",
    "    for var in cat_vars:\n",
    "        explore_univariate_categorical(train, var)\n",
    "        print('_________________________________________________________________')\n",
    "    for col in quant_vars:\n",
    "        p, descriptive_stats = explore_univariate_quant(train, col)\n",
    "        plt.show(p)\n",
    "        print(descriptive_stats)\n",
    "explore_univariate(train, cats, quants)"
   ]
  },
  {
   "cell_type": "code",
   "execution_count": 104,
   "id": "9023764f",
   "metadata": {},
   "outputs": [
    {
     "data": {
      "image/png": "[encoded data removed]",
      "text/plain": [
       "<Figure size 720x720 with 2 Axes>"
      ]
     },
     "metadata": {
      "needs_background": "light"
     },
     "output_type": "display_data"
    }
   ],
   "source": [
    "def get_hot(df):\n",
    "    plt.figure(figsize=(10,10))\n",
    "    mask = df.corr()\n",
    "    sns.heatmap(mask, cmap=\"YlGnBu\", mask=np.triu(mask))\n",
    "    plt.title('Correlation Heatmap')\n",
    "get_hot(train)"
   ]
  },
  {
   "cell_type": "markdown",
   "id": "cddd9b97",
   "metadata": {},
   "source": [
    "**Takeaways**\n",
    "- bed, bath, sqft appear to be have sever collinearity (data collinearity)\n",
    "- fireplaces, garagecarcnt, fips appear to be have sever collinearity (data collinearity)\n",
    "- bed, bath, sqft also appear to be the strongest predictor of `tax_value`\n",
    "    > year, pool, and garagecarcnt are the next most correlated"
   ]
  },
  {
   "cell_type": "markdown",
   "id": "04859be6",
   "metadata": {},
   "source": [
    "# Explore"
   ]
  },
  {
   "cell_type": "markdown",
   "id": "a161e82c",
   "metadata": {},
   "source": [
    "## Initial Hypotheses\n",
    "Let's makes some hypothesis!!!\n",
    "### Hypothesis 1:\n",
    "\n",
    "#### Set Hypothesis\n",
    "\n",
    "$H_{0}$: Mean tax_value of lot_sqft in top 25% <= Mean tax_value of lot_sqft in bottom 25% \n",
    "\n",
    "$H_{a}$: Mean tax_value of lot_sqft in top 25% > Mean tax_value of lot_sqft in bottom 25% \n",
    "\n",
    "#### Visualize"
   ]
  },
  {
   "cell_type": "code",
   "execution_count": 57,
   "id": "d2570791",
   "metadata": {},
   "outputs": [
    {
     "data": {
      "image/png": "[encoded data removed]",
      "text/plain": [
       "<Figure size 432x288 with 1 Axes>"
      ]
     },
     "metadata": {
      "needs_background": "light"
     },
     "output_type": "display_data"
    },
    {
     "data": {
      "image/png": "[encoded data removed]",
      "text/plain": [
       "<Figure size 432x288 with 1 Axes>"
      ]
     },
     "metadata": {
      "needs_background": "light"
     },
     "output_type": "display_data"
    }
   ],
   "source": [
    "top_lot_tax_value = train[train.lot_sqft > train.lot_sqft.quantile(.75)].tax_value\n",
    "top_mean = top_lot_tax_value.mean()\n",
    "bot_lot_tax_value = train[train.lot_sqft < train.lot_sqft.quantile(.25)].tax_value\n",
    "bot_mean = bot_lot_tax_value.mean()\n",
    "\n",
    "bins=[]\n",
    "for i in np.arange(0,3.75, 0.05):\n",
    "    bins.append(i*round(df.tax_value.std(), 2))\n",
    "    \n",
    "plt.title('Distribution of Top 25% of lot sizes')\n",
    "sns.histplot(top_lot_tax_value.head(5000), bins=bins)\n",
    "plt.axvline(top_mean, color='black', linestyle='--')\n",
    "plt.show()\n",
    "\n",
    "plt.title('Distribution of Bottom 25% of lot sizes')\n",
    "sns.histplot(bot_lot_tax_value.head(5000), bins=bins, color='tomato')\n",
    "plt.axvline(bot_mean, color='black', linestyle='--')\n",
    "plt.show()"
   ]
  },
  {
   "cell_type": "markdown",
   "id": "f3c83ca4",
   "metadata": {},
   "source": [
    "#### Set Alpha\n",
    "\n",
    "$\\alpha$ = 0.5"
   ]
  },
  {
   "cell_type": "code",
   "execution_count": 58,
   "id": "fe775f89",
   "metadata": {},
   "outputs": [],
   "source": [
    "a = 0.05"
   ]
  },
  {
   "cell_type": "markdown",
   "id": "f7a992e2",
   "metadata": {},
   "source": [
    "**T-test: 2-Sample**"
   ]
  },
  {
   "cell_type": "code",
   "execution_count": 59,
   "id": "008335f6",
   "metadata": {},
   "outputs": [
    {
     "data": {
      "text/plain": [
       "(0.02499573468595714, 0.4900293667556765)"
      ]
     },
     "execution_count": 59,
     "metadata": {},
     "output_type": "execute_result"
    }
   ],
   "source": [
    "t, p = stats.ttest_ind(top_lot_tax_value, bot_lot_tax_value, equal_var = False)\n",
    "t, p/2"
   ]
  },
  {
   "cell_type": "code",
   "execution_count": 60,
   "id": "19aab936",
   "metadata": {
    "scrolled": true
   },
   "outputs": [
    {
     "name": "stdout",
     "output_type": "stream",
     "text": [
      "is p/2 < alpha?  False\n",
      "is t > 0?  True\n",
      "We fail to reject $H_{0}$\n"
     ]
    }
   ],
   "source": [
    "print(\"is p/2 < alpha? \", p/2 < a)\n",
    "print(\"is t > 0? \", t > 0)\n",
    "if p/2 > a:\n",
    "    print(\"We fail to reject $H_{0}$\")\n",
    "elif t < 0:\n",
    "    print(\"We fail to reject $H_{0}$\")\n",
    "else:\n",
    "    print(\"We reject $H_{0}$\")"
   ]
  },
  {
   "cell_type": "markdown",
   "id": "d23f50dc",
   "metadata": {},
   "source": [
    "Therefore, on average, lot sizes in the bottom 25% of total area have property values greater than or equal to lots that are in the top 25%.\n",
    "___"
   ]
  },
  {
   "cell_type": "markdown",
   "id": "c23237ec",
   "metadata": {},
   "source": [
    "Bedroom count is correlated with tax value\n",
    "### Hypothesis 2:\n",
    "\n",
    "#### Set Hypothesis\n",
    "\n",
    "$H_{0}$: There is no linear correlation between year built and tax value.\n",
    "\n",
    "$H_{a}$: There is a linear correlation between year built and tax value.\n",
    "\n",
    "#### Visualize"
   ]
  },
  {
   "cell_type": "code",
   "execution_count": 61,
   "id": "3c81c6e7",
   "metadata": {
    "scrolled": true
   },
   "outputs": [
    {
     "data": {
      "text/plain": [
       "<seaborn.axisgrid.PairGrid at 0x7fb12acbbb80>"
      ]
     },
     "execution_count": 61,
     "metadata": {},
     "output_type": "execute_result"
    },
    {
     "data": {
      "image/png": "[encoded data removed]",
      "text/plain": [
       "<Figure size 360x360 with 5 Axes>"
      ]
     },
     "metadata": {
      "needs_background": "light"
     },
     "output_type": "display_data"
    }
   ],
   "source": [
    "sns.pairplot(train[['year','tax_value']].sample(2_500), kind=\"reg\", plot_kws={'line_kws':{'color':'red'}, 'scatter_kws': {'alpha': .25}}, corner=True)"
   ]
  },
  {
   "cell_type": "markdown",
   "id": "2600f5c4",
   "metadata": {},
   "source": [
    "#### Set Alpha\n",
    "\n",
    "$\\alpha$ = 0.5"
   ]
  },
  {
   "cell_type": "code",
   "execution_count": 62,
   "id": "d5b0e63d",
   "metadata": {},
   "outputs": [],
   "source": [
    "a = 0.05"
   ]
  },
  {
   "cell_type": "markdown",
   "id": "694bd339",
   "metadata": {},
   "source": [
    "**Correlation Test: Pearsonr**"
   ]
  },
  {
   "cell_type": "code",
   "execution_count": 63,
   "id": "054eee48",
   "metadata": {},
   "outputs": [
    {
     "data": {
      "text/plain": [
       "(0.18853256689816394, 2.112833150027512e-217)"
      ]
     },
     "execution_count": 63,
     "metadata": {},
     "output_type": "execute_result"
    }
   ],
   "source": [
    "corr, p = stats.pearsonr(X_train.year, y_train)\n",
    "corr, p"
   ]
  },
  {
   "cell_type": "code",
   "execution_count": 64,
   "id": "ef999bff",
   "metadata": {},
   "outputs": [
    {
     "name": "stdout",
     "output_type": "stream",
     "text": [
      "is p < alpha?  True\n",
      "We fail to reject $H_{0}$\n"
     ]
    }
   ],
   "source": [
    "print(\"is p < alpha? \", p < a)\n",
    "if p < a:\n",
    "    print(\"We fail to reject $H_{0}$\")\n",
    "else:\n",
    "    print(\"We reject $H_{0}$\")"
   ]
  },
  {
   "cell_type": "markdown",
   "id": "e491f010",
   "metadata": {},
   "source": [
    "Therefore, the year a property is built is not linearly correlated with tax value."
   ]
  },
  {
   "cell_type": "markdown",
   "id": "ce8f141c",
   "metadata": {},
   "source": [
    "___\n",
    "\n",
    "### Hypothesis 3:\n",
    "\n",
    "#### Set Hypothesis\n",
    "\n",
    "$H_{0}$: Mean tax value of houses with at least fireplace == Mean tax value of houses without a fireplace\n",
    "\n",
    "$H_{a}$: Mean tax value of houses with at least fireplace != Mean tax value of houses without a fireplace \n",
    "\n",
    "#### Visualize"
   ]
  },
  {
   "cell_type": "code",
   "execution_count": 65,
   "id": "5846de82",
   "metadata": {
    "scrolled": false
   },
   "outputs": [
    {
     "data": {
      "image/png": "[encoded data removed]",
      "text/plain": [
       "<Figure size 432x288 with 1 Axes>"
      ]
     },
     "metadata": {
      "needs_background": "light"
     },
     "output_type": "display_data"
    },
    {
     "data": {
      "image/png": "[encoded data removed]",
      "text/plain": [
       "<Figure size 432x288 with 1 Axes>"
      ]
     },
     "metadata": {
      "needs_background": "light"
     },
     "output_type": "display_data"
    }
   ],
   "source": [
    "fire_tax_value = train[train.fireplaces > 0].tax_value\n",
    "fire_mean = fire_tax_value.mean()\n",
    "no_fire_tax_value = train[train.fireplaces == 0].tax_value\n",
    "no_fire = no_fire_tax_value.mean()\n",
    "\n",
    "bins=[]\n",
    "for i in np.arange(0,3.75, 0.05):\n",
    "    bins.append(i*round(df.tax_value.std(), 2))\n",
    "    \n",
    "plt.title('Distribution of Properties with a Fireplace')\n",
    "sns.histplot(fire_tax_value.head(4_000), bins=bins)\n",
    "plt.axvline(fire_mean, color='black', linestyle='--')\n",
    "plt.show()\n",
    "\n",
    "plt.title('Distribution of Properties Without a Fireplace')\n",
    "sns.histplot(no_fire_tax_value.head(4_000), bins=bins, color='tomato')\n",
    "plt.axvline(no_fire, color='black', linestyle='--')\n",
    "plt.show()"
   ]
  },
  {
   "cell_type": "markdown",
   "id": "3155be57",
   "metadata": {},
   "source": [
    "#### Set Alpha\n",
    "\n",
    "$\\alpha$ = 0.5"
   ]
  },
  {
   "cell_type": "code",
   "execution_count": 66,
   "id": "411cad48",
   "metadata": {},
   "outputs": [],
   "source": [
    "a = 0.05"
   ]
  },
  {
   "cell_type": "markdown",
   "id": "de83aba3",
   "metadata": {},
   "source": [
    "**T-test: 2-Sample**"
   ]
  },
  {
   "cell_type": "code",
   "execution_count": 67,
   "id": "704dd0cb",
   "metadata": {},
   "outputs": [
    {
     "data": {
      "text/plain": [
       "(10.27283106824668, 8.546502433924064e-25)"
      ]
     },
     "execution_count": 67,
     "metadata": {},
     "output_type": "execute_result"
    }
   ],
   "source": [
    "t, p = stats.ttest_ind(fire_tax_value, no_fire_tax_value, equal_var = False)\n",
    "t, p/2"
   ]
  },
  {
   "cell_type": "code",
   "execution_count": 68,
   "id": "8d4ec468",
   "metadata": {
    "scrolled": true
   },
   "outputs": [
    {
     "name": "stdout",
     "output_type": "stream",
     "text": [
      "is p/2 < alpha?  True\n",
      "is t > 0?  True\n",
      "We reject $H_{0}$\n"
     ]
    }
   ],
   "source": [
    "print(\"is p/2 < alpha? \", p/2 < a)\n",
    "print(\"is t > 0? \", t > 0)\n",
    "if p/2 > a:\n",
    "    print(\"We fail to reject $H_{0}$\")\n",
    "elif t < 0:\n",
    "    print(\"We fail to reject $H_{0}$\")\n",
    "else:\n",
    "    print(\"We reject $H_{0}$\")"
   ]
  },
  {
   "cell_type": "markdown",
   "id": "7cd62922",
   "metadata": {},
   "source": [
    "Therefore, on average, fireplaces increase the tax value of a property."
   ]
  },
  {
   "cell_type": "markdown",
   "id": "5816cc79",
   "metadata": {},
   "source": [
    "___\n",
    "\n",
    "### Hypothesis 4:\n",
    "\n",
    "#### Set Hypothesis\n",
    "\n",
    "$H_{0}$: Mean tax value of houses with pools == Mean tax value of houses without pools\n",
    "\n",
    "$H_{a}$: Mean tax value of houses with pools != Mean tax value of houses without pools \n",
    "\n",
    "#### Visualize"
   ]
  },
  {
   "cell_type": "code",
   "execution_count": 69,
   "id": "6d77c825",
   "metadata": {},
   "outputs": [
    {
     "data": {
      "image/png": "[encoded data removed]",
      "text/plain": [
       "<Figure size 432x288 with 1 Axes>"
      ]
     },
     "metadata": {
      "needs_background": "light"
     },
     "output_type": "display_data"
    },
    {
     "data": {
      "image/png": "[encoded data removed]",
      "text/plain": [
       "<Figure size 432x288 with 1 Axes>"
      ]
     },
     "metadata": {
      "needs_background": "light"
     },
     "output_type": "display_data"
    }
   ],
   "source": [
    "pool_tax_value = train[train.pool == 1].tax_value\n",
    "pool_mean = pool_tax_value.mean()\n",
    "no_pool_tax_value = train[train.pool == 0].tax_value\n",
    "no_pool = no_pool_tax_value.mean()\n",
    "\n",
    "bins=[]\n",
    "for i in np.arange(0,3.75, 0.05):\n",
    "    bins.append(i*round(df.tax_value.std(), 2))\n",
    "    \n",
    "plt.title('Distribution of Properties with a Pool')\n",
    "sns.histplot(pool_tax_value.head(4_000), bins=bins)\n",
    "plt.axvline(pool_mean, color='black', linestyle='--')\n",
    "plt.show()\n",
    "\n",
    "plt.title('Distribution of Properties 25% Without a Pool')\n",
    "sns.histplot(no_pool_tax_value.head(4_000), bins=bins, color='tomato')\n",
    "plt.axvline(no_pool, color='black', linestyle='--')\n",
    "plt.show()"
   ]
  },
  {
   "cell_type": "markdown",
   "id": "551c0b58",
   "metadata": {},
   "source": [
    "#### Set Alpha\n",
    "\n",
    "$\\alpha$ = 0.5"
   ]
  },
  {
   "cell_type": "code",
   "execution_count": 70,
   "id": "6b7f949f",
   "metadata": {},
   "outputs": [],
   "source": [
    "a = 0.05"
   ]
  },
  {
   "cell_type": "markdown",
   "id": "aaae25b6",
   "metadata": {},
   "source": [
    "**T-test: 2-Sample**"
   ]
  },
  {
   "cell_type": "code",
   "execution_count": 71,
   "id": "d18f4d0e",
   "metadata": {},
   "outputs": [
    {
     "data": {
      "text/plain": [
       "(24.41523404153557, 3.0486009773326137e-127)"
      ]
     },
     "execution_count": 71,
     "metadata": {},
     "output_type": "execute_result"
    }
   ],
   "source": [
    "t, p = stats.ttest_ind(pool_tax_value, no_pool_tax_value, equal_var = False)\n",
    "t, p/2"
   ]
  },
  {
   "cell_type": "code",
   "execution_count": 72,
   "id": "b92dad4c",
   "metadata": {
    "scrolled": true
   },
   "outputs": [
    {
     "name": "stdout",
     "output_type": "stream",
     "text": [
      "is p/2 < alpha?  True\n",
      "is t > 0?  True\n",
      "We reject $H_{0}$\n"
     ]
    }
   ],
   "source": [
    "print(\"is p/2 < alpha? \", p/2 < a)\n",
    "print(\"is t > 0? \", t > 0)\n",
    "if p/2 > a:\n",
    "    print(\"We fail to reject $H_{0}$\")\n",
    "elif t < 0:\n",
    "    print(\"We fail to reject $H_{0}$\")\n",
    "else:\n",
    "    print(\"We reject $H_{0}$\")"
   ]
  },
  {
   "cell_type": "markdown",
   "id": "f98ce4d7",
   "metadata": {},
   "source": [
    "Therefore, on average, pools increase the tax value of a property."
   ]
  },
  {
   "cell_type": "markdown",
   "id": "7403895c",
   "metadata": {},
   "source": [
    "**Takeaways**"
   ]
  },
  {
   "cell_type": "markdown",
   "id": "33356014",
   "metadata": {},
   "source": [
    "## Modeling"
   ]
  },
  {
   "cell_type": "code",
   "execution_count": 73,
   "id": "2f3f0a80",
   "metadata": {},
   "outputs": [
    {
     "name": "stdout",
     "output_type": "stream",
     "text": [
      "             BASELINE\n",
      "----------------------------------\n",
      "RMSE using Mean\n",
      "Train/In-Sample:  358420.6 \n",
      "Validate/Out-of-Sample:  359255.2\n",
      "r^2 Score:\n",
      "Mean: -0.0006325936482305394\n",
      "----------------------------------\n",
      "RMSE using Median\n",
      "Train/In-Sample:  368494.31 \n",
      "Validate/Out-of-Sample:  371393.29\n",
      "Median: -0.06939124388405937\n",
      "r^2 Score:\n",
      "Median: -0.06939124388405937\n",
      "----------------------------------\n"
     ]
    }
   ],
   "source": [
    "#turning my y_train and y_validate to dataframes so we can append new columns\n",
    "y_train = pd.DataFrame(y_train)\n",
    "y_validate = pd.DataFrame(y_validate)\n",
    "\n",
    "#tax_value mean\n",
    "mean_baseline = y_train['tax_value'].mean()\n",
    "y_train['mean_baseline'] = mean_baseline\n",
    "y_validate['mean_baseline'] = mean_baseline\n",
    "\n",
    "#RMSE of tax_value_pred_mean\n",
    "rmse_train_mean = mean_squared_error(y_train.tax_value, y_train.mean_baseline)**(1/2)\n",
    "rmse_validate_mean = mean_squared_error(y_validate.tax_value, y_validate.mean_baseline)**(1/2)\n",
    "\n",
    "#R^2 Score of mean\n",
    "r2_baseline_mean = r2_score(y_validate.tax_value, y_validate.mean_baseline)\n",
    "\n",
    "print('             BASELINE')\n",
    "print('----------------------------------')\n",
    "print(\"RMSE using Mean\\nTrain/In-Sample: \", round(rmse_train_mean, 2), \n",
    "      \"\\nValidate/Out-of-Sample: \", round(rmse_validate_mean, 2))\n",
    "print('r^2 Score:')\n",
    "print(f'Mean: {r2_baseline_mean}')\n",
    "print('----------------------------------')\n",
    "\n",
    "#tax_value_median\n",
    "median_baseline = y_train['tax_value'].median()\n",
    "y_train['median_baseline'] = median_baseline\n",
    "y_validate['median_baseline'] = median_baseline\n",
    "\n",
    "#RMSE of tax_value_pred_median\n",
    "rmse_train_median = mean_squared_error(y_train.tax_value, y_train.median_baseline)**(1/2)\n",
    "rmse_validate_median = mean_squared_error(y_validate.tax_value, y_validate.median_baseline)**(1/2)\n",
    "\n",
    "#R^2 Score of median\n",
    "r2_baseline_median = r2_score(y_validate.tax_value, y_validate.median_baseline)\n",
    "\n",
    "print(\"RMSE using Median\\nTrain/In-Sample: \", round(rmse_train_median, 2), \n",
    "      \"\\nValidate/Out-of-Sample: \", round(rmse_validate_median, 2))\n",
    "print(f'Median: {r2_baseline_median}')\n",
    "print('r^2 Score:')\n",
    "print(f'Median: {r2_baseline_median}')\n",
    "print('----------------------------------')"
   ]
  },
  {
   "cell_type": "markdown",
   "id": "20480b4c",
   "metadata": {},
   "source": [
    "#### Mean will be our baseline!"
   ]
  },
  {
   "cell_type": "code",
   "execution_count": 74,
   "id": "cff5316f",
   "metadata": {},
   "outputs": [],
   "source": [
    "y_train.drop(columns='median_baseline', inplace=True)"
   ]
  },
  {
   "cell_type": "code",
   "execution_count": 75,
   "id": "330540fb",
   "metadata": {},
   "outputs": [
    {
     "data": {
      "text/plain": [
       "(3516096008911716.5, 128465327325.967, 358420.6011461492)"
      ]
     },
     "execution_count": 75,
     "metadata": {},
     "output_type": "execute_result"
    }
   ],
   "source": [
    "def baseline_mean_errors(df, y):\n",
    "    baseline = df[y].mean()\n",
    "    base_res = df[y] - baseline\n",
    "    base_res_sq = base_res**2\n",
    "    SSE_baseline = base_res_sq.sum()\n",
    "    MSE_baseline = SSE_baseline/len(df[y])\n",
    "    RMSE_baseline = MSE_baseline**0.5\n",
    "    return SSE_baseline, MSE_baseline, RMSE_baseline\n",
    "SSE_baseline, MSE_baseline, RMSE_baseline = baseline_mean_errors(y_train, 'tax_value')\n",
    "SSE_baseline, MSE_baseline, RMSE_baseline"
   ]
  },
  {
   "cell_type": "code",
   "execution_count": 76,
   "id": "e1031386",
   "metadata": {},
   "outputs": [],
   "source": [
    "def regression_errors(df, y, yhat):\n",
    "    residual = df[yhat] - df[y]\n",
    "    residual_sq = residual**2\n",
    "    SSE = residual_sq.sum()\n",
    "    ESS = ((df[yhat] - df[y].mean())**2).sum()\n",
    "    TSS = SSE + ESS\n",
    "    MSE = SSE/len(df[y])\n",
    "    RMSE = MSE**0.5\n",
    "    return SSE, ESS, TSS, MSE, RMSE\n",
    "SSE_baseline, ESS_baseline, TSS_baseline, MSE_baseline, RMSE_baseline = regression_errors(y_train, 'tax_value', 'mean_baseline')"
   ]
  },
  {
   "cell_type": "code",
   "execution_count": 77,
   "id": "80310482",
   "metadata": {},
   "outputs": [
    {
     "data": {
      "text/html": [
       "<div>\n",
       "<style scoped>\n",
       "    .dataframe tbody tr th:only-of-type {\n",
       "        vertical-align: middle;\n",
       "    }\n",
       "\n",
       "    .dataframe tbody tr th {\n",
       "        vertical-align: top;\n",
       "    }\n",
       "\n",
       "    .dataframe thead th {\n",
       "        text-align: right;\n",
       "    }\n",
       "</style>\n",
       "<table border=\"1\" class=\"dataframe\">\n",
       "  <thead>\n",
       "    <tr style=\"text-align: right;\">\n",
       "      <th></th>\n",
       "      <th>metric</th>\n",
       "      <th>baseline_error</th>\n",
       "    </tr>\n",
       "  </thead>\n",
       "  <tbody>\n",
       "    <tr>\n",
       "      <th>0</th>\n",
       "      <td>SSE_baseline</td>\n",
       "      <td>3.516096e+15</td>\n",
       "    </tr>\n",
       "    <tr>\n",
       "      <th>1</th>\n",
       "      <td>MSE_baseline</td>\n",
       "      <td>1.284653e+11</td>\n",
       "    </tr>\n",
       "    <tr>\n",
       "      <th>2</th>\n",
       "      <td>RMSE_baseline</td>\n",
       "      <td>3.584206e+05</td>\n",
       "    </tr>\n",
       "  </tbody>\n",
       "</table>\n",
       "</div>"
      ],
      "text/plain": [
       "          metric  baseline_error\n",
       "0   SSE_baseline    3.516096e+15\n",
       "1   MSE_baseline    1.284653e+11\n",
       "2  RMSE_baseline    3.584206e+05"
      ]
     },
     "execution_count": 77,
     "metadata": {},
     "output_type": "execute_result"
    }
   ],
   "source": [
    "#df_eval = pd.DataFrame(np.array(['SSE','MSE','RMSE']), columns=['metric'])\n",
    "df_baseline_eval = pd.DataFrame(np.array(['SSE_baseline','MSE_baseline','RMSE_baseline']), columns=['metric'])\n",
    "\n",
    "#df_eval['model_error'] = np.array([SSE, MSE, RMSE])\n",
    "df_baseline_eval['baseline_error'] = np.array([SSE_baseline, MSE_baseline, RMSE_baseline])\n",
    "\n",
    "df_baseline_eval"
   ]
  },
  {
   "cell_type": "code",
   "execution_count": 78,
   "id": "eb9138dd",
   "metadata": {},
   "outputs": [],
   "source": [
    "# kbest:\n",
    "kbest = SelectKBest(f_regression, k=8)\n",
    "kbest.fit(X_train_scaled.drop(columns=['tax_rate']), y_train.tax_value)\n",
    "X_kbest = X_train_scaled.drop(columns=['tax_rate']).columns[kbest.get_support()]\n",
    "\n",
    "# recursive feature elimination:\n",
    "rfe = RFE(estimator=LinearRegression(), n_features_to_select=8)\n",
    "rfe.fit(X_train_scaled.drop(columns=['tax_rate']), y_train)\n",
    "X_rfe = X_train_scaled.drop(columns=['tax_rate']).columns[rfe.get_support()]"
   ]
  },
  {
   "cell_type": "code",
   "execution_count": 79,
   "id": "ab08dc04",
   "metadata": {
    "scrolled": true
   },
   "outputs": [
    {
     "data": {
      "text/plain": [
       "(Index(['bath', 'bed', 'sqft', 'garagecarcnt', 'three_qtr_bath', 'year', 'pool',\n",
       "        'fireplaces'],\n",
       "       dtype='object'),\n",
       " Index(['bath', 'bed', 'sqft', 'garagecarcnt', 'lot_sqft', 'rooms',\n",
       "        'three_qtr_bath', 'year'],\n",
       "       dtype='object'))"
      ]
     },
     "execution_count": 79,
     "metadata": {},
     "output_type": "execute_result"
    }
   ],
   "source": [
    "X_kbest, X_rfe"
   ]
  },
  {
   "cell_type": "markdown",
   "id": "2687933d",
   "metadata": {},
   "source": [
    "Since i saw that lot_sqft is not a good predictor of tax_value, i will use the kbest columns"
   ]
  },
  {
   "cell_type": "markdown",
   "id": "b6ca0b21",
   "metadata": {},
   "source": [
    "### OLS Regression"
   ]
  },
  {
   "cell_type": "code",
   "execution_count": 80,
   "id": "fa1f1e7b",
   "metadata": {},
   "outputs": [
    {
     "name": "stdout",
     "output_type": "stream",
     "text": [
      "RMSE for OLS\n",
      "Training/In-Sample:  280536.9562497502 \n",
      "Validation/Out-of-Sample:  281631.7498382987\n"
     ]
    }
   ],
   "source": [
    "# create the model\n",
    "ols = LinearRegression(normalize=True)\n",
    "\n",
    "# fit the model to our training data. We must specify the column in y_train, \n",
    "# since we have converted it to a dataframe from a series! \n",
    "ols.fit(X_train_scaled[X_kbest], y_train['tax_value'])\n",
    "\n",
    "# predict train\n",
    "y_train['ols_yhat'] = ols.predict(X_train_scaled[X_kbest])\n",
    "\n",
    "# evaluate: rmse\n",
    "rmse_train = mean_squared_error(y_train['tax_value'], y_train['ols_yhat'])**(1/2)\n",
    "\n",
    "# predict validate\n",
    "y_validate['ols_yhat'] = ols.predict(X_validate_scaled[X_kbest])\n",
    "\n",
    "# evaluate: rmse\n",
    "rmse_validate = mean_squared_error(y_validate['tax_value'], y_validate['ols_yhat'])**(1/2)\n",
    "\n",
    "print(\"RMSE for OLS\\nTraining/In-Sample: \", rmse_train, \n",
    "      \"\\nValidation/Out-of-Sample: \", rmse_validate)"
   ]
  },
  {
   "cell_type": "code",
   "execution_count": 81,
   "id": "8b5253e0",
   "metadata": {
    "scrolled": true
   },
   "outputs": [
    {
     "data": {
      "image/png": "[encoded data removed]",
      "text/plain": [
       "<Figure size 720x720 with 1 Axes>"
      ]
     },
     "metadata": {
      "needs_background": "light"
     },
     "output_type": "display_data"
    }
   ],
   "source": [
    "def plot_residuals(df, y, yhat, model_name):\n",
    "    plt.figure(figsize=(10,10))\n",
    "    plt.title(f'Residuals for {model_name}')\n",
    "    sns.regplot(data=df, x=y, y=df[y]-df[yhat], scatter_kws={'color':'skyblue','alpha': .55}, line_kws={'color':'red'})\n",
    "    plt.axhline(df[yhat].mean(), ls = ':', color='black')\n",
    "    plt.ylabel(yhat)\n",
    "    plt.show()\n",
    "plot_residuals(y_train.head(5_000), 'tax_value', 'ols_yhat', 'OLS')"
   ]
  },
  {
   "cell_type": "code",
   "execution_count": 82,
   "id": "d97cee14",
   "metadata": {},
   "outputs": [],
   "source": [
    "def regression_errors(df, y, yhat):\n",
    "    residual = df[yhat] - df[y]\n",
    "    residual_sq = residual**2\n",
    "    SSE = residual_sq.sum()\n",
    "    ESS = ((df[yhat] - df[y].mean())**2).sum()\n",
    "    TSS = SSE + ESS\n",
    "    MSE = SSE/len(df[y])\n",
    "    RMSE = MSE**0.5\n",
    "    return SSE, ESS, TSS, MSE, RMSE\n",
    "SSE, ESS, TSS, MSE, RMSE = regression_errors(y_train, 'tax_value', 'ols_yhat')"
   ]
  },
  {
   "cell_type": "code",
   "execution_count": 83,
   "id": "43e66873",
   "metadata": {},
   "outputs": [
    {
     "data": {
      "text/plain": [
       "True"
      ]
     },
     "execution_count": 83,
     "metadata": {},
     "output_type": "execute_result"
    }
   ],
   "source": [
    "def better_than_baseline(df, y, yhat):\n",
    "    SSE_baseline, MSE_baseline, RMSE_baseline = baseline_mean_errors(df, y)\n",
    "    SSE, ESS, TSS, MSE, RMSE = regression_errors(df, y, yhat)\n",
    "    return RMSE < RMSE_baseline\n",
    "better_than_baseline(y_train, 'tax_value', 'ols_yhat')"
   ]
  },
  {
   "cell_type": "code",
   "execution_count": 84,
   "id": "45c0a1a5",
   "metadata": {},
   "outputs": [
    {
     "data": {
      "text/html": [
       "<div>\n",
       "<style scoped>\n",
       "    .dataframe tbody tr th:only-of-type {\n",
       "        vertical-align: middle;\n",
       "    }\n",
       "\n",
       "    .dataframe tbody tr th {\n",
       "        vertical-align: top;\n",
       "    }\n",
       "\n",
       "    .dataframe thead th {\n",
       "        text-align: right;\n",
       "    }\n",
       "</style>\n",
       "<table border=\"1\" class=\"dataframe\">\n",
       "  <thead>\n",
       "    <tr style=\"text-align: right;\">\n",
       "      <th></th>\n",
       "      <th>metric</th>\n",
       "      <th>model_error</th>\n",
       "      <th>delta_error</th>\n",
       "      <th>model&gt;baseline</th>\n",
       "    </tr>\n",
       "  </thead>\n",
       "  <tbody>\n",
       "    <tr>\n",
       "      <th>0</th>\n",
       "      <td>SSE</td>\n",
       "      <td>2.154046e+15</td>\n",
       "      <td>-1.362050e+15</td>\n",
       "      <td>True</td>\n",
       "    </tr>\n",
       "    <tr>\n",
       "      <th>1</th>\n",
       "      <td>MSE</td>\n",
       "      <td>7.870098e+10</td>\n",
       "      <td>-4.976434e+10</td>\n",
       "      <td>True</td>\n",
       "    </tr>\n",
       "    <tr>\n",
       "      <th>2</th>\n",
       "      <td>RMSE</td>\n",
       "      <td>2.805370e+05</td>\n",
       "      <td>-7.788364e+04</td>\n",
       "      <td>True</td>\n",
       "    </tr>\n",
       "  </tbody>\n",
       "</table>\n",
       "</div>"
      ],
      "text/plain": [
       "  metric   model_error   delta_error  model>baseline\n",
       "0    SSE  2.154046e+15 -1.362050e+15            True\n",
       "1    MSE  7.870098e+10 -4.976434e+10            True\n",
       "2   RMSE  2.805370e+05 -7.788364e+04            True"
      ]
     },
     "execution_count": 84,
     "metadata": {},
     "output_type": "execute_result"
    }
   ],
   "source": [
    "df_eval = pd.DataFrame(np.array(['SSE','MSE','RMSE']), columns=['metric'])\n",
    "\n",
    "df_eval['model_error'] = np.array([SSE, MSE, RMSE])\n",
    "\n",
    "df_eval['delta_error'] = df_eval.model_error - df_baseline_eval.baseline_error\n",
    "df_eval['model>baseline'] = better_than_baseline(y_train, 'tax_value', 'ols_yhat')\n",
    "df_eval"
   ]
  },
  {
   "cell_type": "code",
   "execution_count": 85,
   "id": "9bab8417",
   "metadata": {},
   "outputs": [
    {
     "data": {
      "text/plain": [
       "0.3873756798036333"
      ]
     },
     "execution_count": 85,
     "metadata": {},
     "output_type": "execute_result"
    }
   ],
   "source": [
    "# Explained Variance\n",
    "ols_r2 = r2_score(y_train.tax_value, y_train.ols_yhat)\n",
    "ols_r2"
   ]
  },
  {
   "cell_type": "markdown",
   "id": "7adb57f0",
   "metadata": {},
   "source": [
    "### LassoLars Regression"
   ]
  },
  {
   "cell_type": "code",
   "execution_count": 86,
   "id": "57d4bd8f",
   "metadata": {},
   "outputs": [
    {
     "name": "stdout",
     "output_type": "stream",
     "text": [
      "RMSE for Lasso + Lars\n",
      "Training/In-Sample:  280537.805393434 \n",
      "Validation/Out-of-Sample:  281631.0766703087\n"
     ]
    }
   ],
   "source": [
    "# create the model object\n",
    "lars = LassoLars(alpha=1)\n",
    "\n",
    "# fit the model to our training data. We must specify the column in y_train, \n",
    "# since we have converted it to a dataframe from a series! \n",
    "lars.fit(X_train_scaled[X_kbest], y_train['tax_value'])\n",
    "\n",
    "# predict train\n",
    "y_train['lars_yhat'] = lars.predict(X_train_scaled[X_kbest])\n",
    "\n",
    "# evaluate: rmse\n",
    "rmse_train = mean_squared_error(y_train['tax_value'], y_train['lars_yhat'])**(1/2)\n",
    "\n",
    "# predict validate\n",
    "y_validate['lars_yhat'] = lars.predict(X_validate_scaled[X_kbest])\n",
    "\n",
    "# evaluate: rmse\n",
    "rmse_validate = mean_squared_error(y_validate['tax_value'], y_validate['lars_yhat'])**(1/2)\n",
    "\n",
    "print(\"RMSE for Lasso + Lars\\nTraining/In-Sample: \", rmse_train, \n",
    "      \"\\nValidation/Out-of-Sample: \", rmse_validate)"
   ]
  },
  {
   "cell_type": "code",
   "execution_count": 87,
   "id": "30b81167",
   "metadata": {},
   "outputs": [
    {
     "data": {
      "image/png": "[encoded data removed]",
      "text/plain": [
       "<Figure size 720x720 with 1 Axes>"
      ]
     },
     "metadata": {
      "needs_background": "light"
     },
     "output_type": "display_data"
    }
   ],
   "source": [
    "plot_residuals(y_train.head(5_000), 'tax_value', 'lars_yhat', 'Lasso + Lars')"
   ]
  },
  {
   "cell_type": "code",
   "execution_count": 88,
   "id": "6e48d978",
   "metadata": {},
   "outputs": [
    {
     "data": {
      "text/html": [
       "<div>\n",
       "<style scoped>\n",
       "    .dataframe tbody tr th:only-of-type {\n",
       "        vertical-align: middle;\n",
       "    }\n",
       "\n",
       "    .dataframe tbody tr th {\n",
       "        vertical-align: top;\n",
       "    }\n",
       "\n",
       "    .dataframe thead th {\n",
       "        text-align: right;\n",
       "    }\n",
       "</style>\n",
       "<table border=\"1\" class=\"dataframe\">\n",
       "  <thead>\n",
       "    <tr style=\"text-align: right;\">\n",
       "      <th></th>\n",
       "      <th>metric</th>\n",
       "      <th>model_error</th>\n",
       "      <th>delta_error</th>\n",
       "      <th>model&gt;baseline</th>\n",
       "    </tr>\n",
       "  </thead>\n",
       "  <tbody>\n",
       "    <tr>\n",
       "      <th>0</th>\n",
       "      <td>SSE</td>\n",
       "      <td>2.154059e+15</td>\n",
       "      <td>-1.362037e+15</td>\n",
       "      <td>True</td>\n",
       "    </tr>\n",
       "    <tr>\n",
       "      <th>1</th>\n",
       "      <td>MSE</td>\n",
       "      <td>7.870146e+10</td>\n",
       "      <td>-4.976387e+10</td>\n",
       "      <td>True</td>\n",
       "    </tr>\n",
       "    <tr>\n",
       "      <th>2</th>\n",
       "      <td>RMSE</td>\n",
       "      <td>2.805378e+05</td>\n",
       "      <td>-7.788280e+04</td>\n",
       "      <td>True</td>\n",
       "    </tr>\n",
       "  </tbody>\n",
       "</table>\n",
       "</div>"
      ],
      "text/plain": [
       "  metric   model_error   delta_error  model>baseline\n",
       "0    SSE  2.154059e+15 -1.362037e+15            True\n",
       "1    MSE  7.870146e+10 -4.976387e+10            True\n",
       "2   RMSE  2.805378e+05 -7.788280e+04            True"
      ]
     },
     "execution_count": 88,
     "metadata": {},
     "output_type": "execute_result"
    }
   ],
   "source": [
    "SSE, ESS, TSS, MSE, RMSE = regression_errors(y_train, 'tax_value', 'lars_yhat')\n",
    "df_eval = pd.DataFrame(np.array(['SSE','MSE','RMSE']), columns=['metric'])\n",
    "\n",
    "df_eval['model_error'] = np.array([SSE, MSE, RMSE])\n",
    "\n",
    "df_eval['delta_error'] = df_eval.model_error - df_baseline_eval.baseline_error\n",
    "df_eval['model>baseline'] = better_than_baseline(y_train, 'tax_value', 'lars_yhat')\n",
    "df_eval"
   ]
  },
  {
   "cell_type": "code",
   "execution_count": 89,
   "id": "1d398bed",
   "metadata": {},
   "outputs": [
    {
     "data": {
      "text/plain": [
       "0.38737197115243593"
      ]
     },
     "execution_count": 89,
     "metadata": {},
     "output_type": "execute_result"
    }
   ],
   "source": [
    "# Explained Variance\n",
    "lars_r2 = r2_score(y_train.tax_value, y_train.lars_yhat)\n",
    "lars_r2"
   ]
  },
  {
   "cell_type": "markdown",
   "id": "071228af",
   "metadata": {},
   "source": [
    "### TweedieRegressor (GLM) Regression"
   ]
  },
  {
   "cell_type": "code",
   "execution_count": 90,
   "id": "c70716a2",
   "metadata": {},
   "outputs": [
    {
     "name": "stdout",
     "output_type": "stream",
     "text": [
      "RMSE for GLM using Tweedie, power=1 & alpha=1\n",
      "Training/In-Sample:  299522.94365084416 \n",
      "Validation/Out-of-Sample:  325191.3965728223\n"
     ]
    }
   ],
   "source": [
    "# create the model object\n",
    "glm = TweedieRegressor(power=1, alpha=0.5)\n",
    "\n",
    "# fit the model to our training data. We must specify the column in y_train, \n",
    "# since we have converted it to a dataframe from a series! \n",
    "glm.fit(X_train_scaled[X_kbest], y_train['tax_value'])\n",
    "\n",
    "# predict train\n",
    "y_train['glm_yhat'] = glm.predict(X_train_scaled[X_kbest])\n",
    "\n",
    "# evaluate: rmse\n",
    "rmse_train = mean_squared_error(y_train.tax_value, y_train.glm_yhat)**(1/2)\n",
    "\n",
    "# predict validate\n",
    "y_validate['glm_yhat'] = glm.predict(X_validate_scaled[X_kbest])\n",
    "\n",
    "# evaluate: rmse\n",
    "rmse_validate = mean_squared_error(y_validate.tax_value, y_validate.glm_yhat)**(1/2)\n",
    "\n",
    "print(\"RMSE for GLM using Tweedie, power=1 & alpha=1\\nTraining/In-Sample: \", rmse_train, \n",
    "      \"\\nValidation/Out-of-Sample: \", rmse_validate)"
   ]
  },
  {
   "cell_type": "code",
   "execution_count": 91,
   "id": "5f79ed2e",
   "metadata": {},
   "outputs": [
    {
     "data": {
      "image/png": "[encoded data removed]",
      "text/plain": [
       "<Figure size 720x720 with 1 Axes>"
      ]
     },
     "metadata": {
      "needs_background": "light"
     },
     "output_type": "display_data"
    }
   ],
   "source": [
    "plot_residuals(y_train.head(5_000), 'tax_value', 'glm_yhat', 'TweedieRegressor (GLM)')"
   ]
  },
  {
   "cell_type": "code",
   "execution_count": 92,
   "id": "a26023b9",
   "metadata": {},
   "outputs": [
    {
     "data": {
      "text/html": [
       "<div>\n",
       "<style scoped>\n",
       "    .dataframe tbody tr th:only-of-type {\n",
       "        vertical-align: middle;\n",
       "    }\n",
       "\n",
       "    .dataframe tbody tr th {\n",
       "        vertical-align: top;\n",
       "    }\n",
       "\n",
       "    .dataframe thead th {\n",
       "        text-align: right;\n",
       "    }\n",
       "</style>\n",
       "<table border=\"1\" class=\"dataframe\">\n",
       "  <thead>\n",
       "    <tr style=\"text-align: right;\">\n",
       "      <th></th>\n",
       "      <th>metric</th>\n",
       "      <th>model_error</th>\n",
       "      <th>delta_error</th>\n",
       "      <th>model&gt;baseline</th>\n",
       "    </tr>\n",
       "  </thead>\n",
       "  <tbody>\n",
       "    <tr>\n",
       "      <th>0</th>\n",
       "      <td>SSE</td>\n",
       "      <td>2.455472e+15</td>\n",
       "      <td>-1.060624e+15</td>\n",
       "      <td>True</td>\n",
       "    </tr>\n",
       "    <tr>\n",
       "      <th>1</th>\n",
       "      <td>MSE</td>\n",
       "      <td>8.971399e+10</td>\n",
       "      <td>-3.875133e+10</td>\n",
       "      <td>True</td>\n",
       "    </tr>\n",
       "    <tr>\n",
       "      <th>2</th>\n",
       "      <td>RMSE</td>\n",
       "      <td>2.995229e+05</td>\n",
       "      <td>-5.889766e+04</td>\n",
       "      <td>True</td>\n",
       "    </tr>\n",
       "  </tbody>\n",
       "</table>\n",
       "</div>"
      ],
      "text/plain": [
       "  metric   model_error   delta_error  model>baseline\n",
       "0    SSE  2.455472e+15 -1.060624e+15            True\n",
       "1    MSE  8.971399e+10 -3.875133e+10            True\n",
       "2   RMSE  2.995229e+05 -5.889766e+04            True"
      ]
     },
     "execution_count": 92,
     "metadata": {},
     "output_type": "execute_result"
    }
   ],
   "source": [
    "SSE, ESS, TSS, MSE, RMSE = regression_errors(y_train, 'tax_value', 'glm_yhat')\n",
    "df_eval = pd.DataFrame(np.array(['SSE','MSE','RMSE']), columns=['metric'])\n",
    "\n",
    "df_eval['model_error'] = np.array([SSE, MSE, RMSE])\n",
    "\n",
    "df_eval['delta_error'] = df_eval.model_error - df_baseline_eval.baseline_error\n",
    "df_eval['model>baseline'] = better_than_baseline(y_train, 'tax_value', 'glm_yhat')\n",
    "df_eval"
   ]
  },
  {
   "cell_type": "code",
   "execution_count": 93,
   "id": "5194fa78",
   "metadata": {},
   "outputs": [
    {
     "data": {
      "text/plain": [
       "0.30164819067772963"
      ]
     },
     "execution_count": 93,
     "metadata": {},
     "output_type": "execute_result"
    }
   ],
   "source": [
    "# Explained Variance\n",
    "glm_r2 = r2_score(y_train.tax_value, y_train.glm_yhat)\n",
    "glm_r2"
   ]
  },
  {
   "cell_type": "markdown",
   "id": "38b7e671",
   "metadata": {},
   "source": [
    "### Polynomial"
   ]
  },
  {
   "cell_type": "code",
   "execution_count": 94,
   "id": "f6519f5f",
   "metadata": {},
   "outputs": [
    {
     "name": "stdout",
     "output_type": "stream",
     "text": [
      "RMSE for Polynomial Model, degrees=3\n",
      "Training/In-Sample:  270195.45882588753 \n",
      "Validation/Out-of-Sample:  280802.7635480066\n"
     ]
    }
   ],
   "source": [
    "# make the polynomial features to get a new set of features\n",
    "pf = PolynomialFeatures(degree=3)\n",
    "\n",
    "# fit and transform X_train_scaled\n",
    "X_train_degree3 = pf.fit_transform(X_train_scaled[X_kbest])\n",
    "\n",
    "# transform X_validate_scaled\n",
    "X_validate_degree3 = pf.transform(X_validate_scaled[X_kbest])\n",
    "\n",
    "# create the model object\n",
    "lm3 = LinearRegression(normalize=True)\n",
    "\n",
    "# fit the model to our training data. We must specify the column in y_train, \n",
    "# since we have converted it to a dataframe from a series! \n",
    "lm3.fit(X_train_degree3, y_train.tax_value)\n",
    "\n",
    "# predict train\n",
    "y_train['lm3_yhat'] = lm3.predict(X_train_degree3)\n",
    "\n",
    "# evaluate: rmse\n",
    "rmse_train = mean_squared_error(y_train.tax_value, y_train.lm3_yhat)**(1/2)\n",
    "\n",
    "# predict validate\n",
    "y_validate['lm3_yhat'] = lm3.predict(X_validate_degree3)\n",
    "\n",
    "# evaluate: rmse\n",
    "rmse_validate = mean_squared_error(y_validate.tax_value, y_validate.lm3_yhat)**(1/2)\n",
    "\n",
    "print(\"RMSE for Polynomial Model, degrees=3\\nTraining/In-Sample: \", rmse_train, \n",
    "      \"\\nValidation/Out-of-Sample: \", rmse_validate)"
   ]
  },
  {
   "cell_type": "code",
   "execution_count": 95,
   "id": "89e89824",
   "metadata": {},
   "outputs": [
    {
     "data": {
      "image/png": "[encoded data removed]",
      "text/plain": [
       "<Figure size 720x720 with 1 Axes>"
      ]
     },
     "metadata": {
      "needs_background": "light"
     },
     "output_type": "display_data"
    }
   ],
   "source": [
    "plot_residuals(y_train.head(5_000), 'tax_value', 'lm3_yhat', 'PolynomialFeatures (deg=3)')"
   ]
  },
  {
   "cell_type": "code",
   "execution_count": 96,
   "id": "c3587f25",
   "metadata": {},
   "outputs": [
    {
     "data": {
      "text/html": [
       "<div>\n",
       "<style scoped>\n",
       "    .dataframe tbody tr th:only-of-type {\n",
       "        vertical-align: middle;\n",
       "    }\n",
       "\n",
       "    .dataframe tbody tr th {\n",
       "        vertical-align: top;\n",
       "    }\n",
       "\n",
       "    .dataframe thead th {\n",
       "        text-align: right;\n",
       "    }\n",
       "</style>\n",
       "<table border=\"1\" class=\"dataframe\">\n",
       "  <thead>\n",
       "    <tr style=\"text-align: right;\">\n",
       "      <th></th>\n",
       "      <th>metric</th>\n",
       "      <th>model_error</th>\n",
       "      <th>delta_error</th>\n",
       "      <th>model&gt;baseline</th>\n",
       "    </tr>\n",
       "  </thead>\n",
       "  <tbody>\n",
       "    <tr>\n",
       "      <th>0</th>\n",
       "      <td>SSE</td>\n",
       "      <td>1.998163e+15</td>\n",
       "      <td>-1.517933e+15</td>\n",
       "      <td>True</td>\n",
       "    </tr>\n",
       "    <tr>\n",
       "      <th>1</th>\n",
       "      <td>MSE</td>\n",
       "      <td>7.300559e+10</td>\n",
       "      <td>-5.545974e+10</td>\n",
       "      <td>True</td>\n",
       "    </tr>\n",
       "    <tr>\n",
       "      <th>2</th>\n",
       "      <td>RMSE</td>\n",
       "      <td>2.701955e+05</td>\n",
       "      <td>-8.822514e+04</td>\n",
       "      <td>True</td>\n",
       "    </tr>\n",
       "  </tbody>\n",
       "</table>\n",
       "</div>"
      ],
      "text/plain": [
       "  metric   model_error   delta_error  model>baseline\n",
       "0    SSE  1.998163e+15 -1.517933e+15            True\n",
       "1    MSE  7.300559e+10 -5.545974e+10            True\n",
       "2   RMSE  2.701955e+05 -8.822514e+04            True"
      ]
     },
     "execution_count": 96,
     "metadata": {},
     "output_type": "execute_result"
    }
   ],
   "source": [
    "SSE, ESS, TSS, MSE, RMSE = regression_errors(y_train, 'tax_value', 'lm3_yhat')\n",
    "df_eval = pd.DataFrame(np.array(['SSE','MSE','RMSE', 'R2']), columns=['metric'])\n",
    "\n",
    "df_eval['model_error'] = np.array([SSE, MSE, RMSE])\n",
    "\n",
    "df_eval['delta_error'] = df_eval.model_error - df_baseline_eval.baseline_error\n",
    "df_eval['model>baseline'] = better_than_baseline(y_train, 'tax_value', 'lm3_yhat')\n",
    "df_eval"
   ]
  },
  {
   "cell_type": "code",
   "execution_count": 97,
   "id": "02d7e861",
   "metadata": {},
   "outputs": [
    {
     "data": {
      "text/plain": [
       "0.4317098045849519"
      ]
     },
     "execution_count": 97,
     "metadata": {},
     "output_type": "execute_result"
    }
   ],
   "source": [
    "# Explained Variance\n",
    "lm3_r2 = r2_score(y_train.tax_value, y_train.lm3_yhat)\n",
    "lm3_r2"
   ]
  },
  {
   "cell_type": "markdown",
   "id": "9e04e8c0",
   "metadata": {},
   "source": [
    "#### Takeaway"
   ]
  },
  {
   "cell_type": "markdown",
   "id": "b6d24035",
   "metadata": {},
   "source": [
    "### Test"
   ]
  },
  {
   "cell_type": "code",
   "execution_count": 98,
   "id": "1dd4875e",
   "metadata": {},
   "outputs": [
    {
     "name": "stdout",
     "output_type": "stream",
     "text": [
      "RMSE for Polynomial Model using LinearRegression\n",
      "Out-of-Sample Performance:  261727.7561884678\n"
     ]
    }
   ],
   "source": [
    "y_test = pd.DataFrame(y_test)\n",
    "\n",
    "X_test_degree3 =  pf.fit_transform(X_test_scaled[X_kbest])\n",
    "\n",
    "lm3.fit(X_test_degree3, y_test.tax_value)\n",
    "\n",
    "# predict on test\n",
    "y_test['lm3_yhat'] = lm3.predict(X_test_degree3)\n",
    "\n",
    "# evaluate: rmse\n",
    "rmse_test = mean_squared_error(y_test.tax_value, y_test.lm3_yhat) ** (1/2)\n",
    "\n",
    "print(\"RMSE for Polynomial Model using LinearRegression\\nOut-of-Sample Performance: \", rmse_test)"
   ]
  },
  {
   "cell_type": "code",
   "execution_count": 99,
   "id": "e74763ce",
   "metadata": {},
   "outputs": [
    {
     "data": {
      "text/html": [
       "<div>\n",
       "<style scoped>\n",
       "    .dataframe tbody tr th:only-of-type {\n",
       "        vertical-align: middle;\n",
       "    }\n",
       "\n",
       "    .dataframe tbody tr th {\n",
       "        vertical-align: top;\n",
       "    }\n",
       "\n",
       "    .dataframe thead th {\n",
       "        text-align: right;\n",
       "    }\n",
       "</style>\n",
       "<table border=\"1\" class=\"dataframe\">\n",
       "  <thead>\n",
       "    <tr style=\"text-align: right;\">\n",
       "      <th></th>\n",
       "      <th>metric</th>\n",
       "      <th>model_error</th>\n",
       "      <th>delta_error</th>\n",
       "      <th>model&gt;baseline</th>\n",
       "    </tr>\n",
       "  </thead>\n",
       "  <tbody>\n",
       "    <tr>\n",
       "      <th>0</th>\n",
       "      <td>SSE</td>\n",
       "      <td>2.604424e+14</td>\n",
       "      <td>-3.255654e+15</td>\n",
       "      <td>True</td>\n",
       "    </tr>\n",
       "    <tr>\n",
       "      <th>1</th>\n",
       "      <td>MSE</td>\n",
       "      <td>6.850142e+10</td>\n",
       "      <td>-5.996391e+10</td>\n",
       "      <td>True</td>\n",
       "    </tr>\n",
       "    <tr>\n",
       "      <th>2</th>\n",
       "      <td>RMSE</td>\n",
       "      <td>2.617278e+05</td>\n",
       "      <td>-9.669284e+04</td>\n",
       "      <td>True</td>\n",
       "    </tr>\n",
       "  </tbody>\n",
       "</table>\n",
       "</div>"
      ],
      "text/plain": [
       "  metric   model_error   delta_error  model>baseline\n",
       "0    SSE  2.604424e+14 -3.255654e+15            True\n",
       "1    MSE  6.850142e+10 -5.996391e+10            True\n",
       "2   RMSE  2.617278e+05 -9.669284e+04            True"
      ]
     },
     "execution_count": 99,
     "metadata": {},
     "output_type": "execute_result"
    }
   ],
   "source": [
    "SSE, ESS, TSS, MSE, RMSE = regression_errors(y_test, 'tax_value', 'lm3_yhat')\n",
    "df_eval = pd.DataFrame(np.array(['SSE','MSE','RMSE', 'R2']), columns=['metric'])\n",
    "\n",
    "df_eval['model_error'] = np.array([SSE, MSE, RMSE])\n",
    "\n",
    "df_eval['delta_error'] = df_eval.model_error - df_baseline_eval.baseline_error\n",
    "df_eval['model>baseline'] = better_than_baseline(y_test, 'tax_value', 'lm3_yhat')\n",
    "df_eval"
   ]
  },
  {
   "cell_type": "code",
   "execution_count": 100,
   "id": "2b420b6d",
   "metadata": {
    "scrolled": true
   },
   "outputs": [
    {
     "data": {
      "image/png": "[encoded data removed]",
      "text/plain": [
       "<Figure size 720x720 with 1 Axes>"
      ]
     },
     "metadata": {
      "needs_background": "light"
     },
     "output_type": "display_data"
    }
   ],
   "source": [
    "plot_residuals(y_test.head(5_000), 'tax_value', 'lm3_yhat', 'PolynomialFeatures (deg=3) Out-of-Sample')"
   ]
  },
  {
   "cell_type": "markdown",
   "id": "48b95166",
   "metadata": {},
   "source": [
    "## Tax Rates per County"
   ]
  },
  {
   "cell_type": "code",
   "execution_count": 101,
   "id": "d66bf55f",
   "metadata": {},
   "outputs": [
    {
     "data": {
      "text/plain": [
       "<matplotlib.legend.Legend at 0x7fb111e407c0>"
      ]
     },
     "execution_count": 101,
     "metadata": {},
     "output_type": "execute_result"
    },
    {
     "data": {
      "image/png": "[encoded data removed]",
      "text/plain": [
       "<Figure size 1008x720 with 1 Axes>"
      ]
     },
     "metadata": {
      "needs_background": "light"
     },
     "output_type": "display_data"
    }
   ],
   "source": [
    "bins=[]\n",
    "for i in np.arange(0,3.75, 0.05):\n",
    "    bins.append(i*round(df.tax_rate.std(), 2))\n",
    "\n",
    "plt.figure(figsize=(14,10))\n",
    "sns.histplot(data=df, x=df.tax_rate, bins=bins, hue=df.fips, palette='tab10')\n",
    "\n",
    "plt.title('Tax Rate by County')\n",
    "plt.xlabel('Tax Rate')\n",
    "plt.ylabel('Frequency')\n",
    "\n",
    "# replace legend\n",
    "plt.legend(['Ventura', 'Orange County', 'Los Angeles'])"
   ]
  },
  {
   "cell_type": "code",
   "execution_count": null,
   "id": "26db4803",
   "metadata": {},
   "outputs": [],
   "source": []
  }
 ],
 "metadata": {
  "kernelspec": {
   "display_name": "Python 3",
   "language": "python",
   "name": "python3"
  },
  "language_info": {
   "codemirror_mode": {
    "name": "ipython",
    "version": 3
   },
   "file_extension": ".py",
   "mimetype": "text/x-python",
   "name": "python",
   "nbconvert_exporter": "python",
   "pygments_lexer": "ipython3",
   "version": "3.8.8"
  }
 },
 "nbformat": 4,
 "nbformat_minor": 5
}
